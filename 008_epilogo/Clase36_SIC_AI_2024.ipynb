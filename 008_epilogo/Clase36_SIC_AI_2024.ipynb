{
  "cells": [
    {
      "cell_type": "markdown",
      "metadata": {
        "colab_type": "text",
        "id": "view-in-github"
      },
      "source": [
        "<a href=\"https://colab.research.google.com/github/davidlealo/sic_ai_2024/blob/main/008_epilogo/Clase36_SIC_AI_2024.ipynb\" target=\"_parent\"><img src=\"https://colab.research.google.com/assets/colab-badge.svg\" alt=\"Open In Colab\"/></a>"
      ]
    },
    {
      "cell_type": "markdown",
      "metadata": {
        "id": "VIpC2cn9D7uc"
      },
      "source": [
        "# Clase 36 SIC AI Chapter 2 Quiz\n",
        "\n",
        "# AI Course\n",
        "\n",
        "## Chapter 2. Quiz\n",
        "\n",
        "\n",
        "1. Create examples of zero vector, one vector, square matrix, diagonal matrix, identity matrix, and symmetric matrix one by one, and represent vectors and matrices with NumPy.\n",
        "\n",
        "2. The shares of three companies A, B, and C are 1 million won, 800,000 won, and 500,000 won, respectively. We want to find the amount required to purchase 3, 4, and 5 shares of these stocks, respectively.\n",
        "\n",
        "   1) Express the stocks' price and quantity as p vector and n vector, respectively and coded with NumPy.\n",
        "\n",
        "   2) The amount required to purchase stocks is expressed by multiplication, and the value is calculated by Numpy operation.\n",
        "\n",
        "3. When the following code is executed, all data of the MNIST numeric image is converted into vectors to create a single NumPy matrix X. Use this matrix to solve the following problem.\n",
        "\n",
        "   ```python\n",
        "   from sklearn.datasets import load_digits\n",
        "   X=load_digits().data\n",
        "   ```\n",
        "\n",
        "   1) Find the similarity between the first image and the tenth image using dot product.\n",
        "\n",
        "   2) Find the similarity for a combination of all images using the dot product, how would it be efficient to implement it (hint: using matrices and multiplication of matrices)\n",
        "\n",
        "4. Calculate the following inverse matrix.\n",
        "\n",
        "   $$\\begin{bmatrix}\n",
        "   2 & 0 \\\\\n",
        "   0 & 1\n",
        "   \\end{bmatrix}^{- 1}$$\n",
        "\n",
        "5. The Boston house price problem is a problem of predicting the housing price of each town in Boston, USA using features such as the crime rate and air pollution in the area. It can be imported from the load_boston function. Find the weight vector x when the Boston house price problem is solved with the linear prediction model Ax=$\\widehat{b}$. Matrix and vector data can be obtained as follows.\n",
        "\n",
        "   Here, to simplify the problem, we limited the input data to crime rate (CRIM), air quality (NOX), number of rooms (RM), and age (AGE), and only four data were used.\n",
        "\n",
        "   Run the code below to check whether the magnitude or sign of the weight vector obtained from running the program is consistent the common notion. In order to find it, interpret the printed output for all the factors: CRIM, NOX, RM and AGE.\n",
        "   ※ Write the interpreted output like *\"the house price is in inverse proportion to the crime rate (CRIM).\"*\n",
        "\n",
        "   ```python\n",
        "   import pandas as pd\n",
        "   import numpy as np\n",
        "   \n",
        "   def load_boston():\n",
        "       data_url = \"http://lib.stat.cmu.edu/datasets/boston\"\n",
        "       raw_df = pd.read_csv(data_url, sep=\"\\s+\", skiprows=22, header=None)\n",
        "       data = np.hstack([raw_df.values[::2, :], raw_df.values[1::2, :2]])\n",
        "       target = raw_df.values[1::2, 2]\n",
        "       return {'data': data, 'target': target}\n",
        "   \n",
        "   boston=load_boston()\n",
        "   X=boston['data']\n",
        "   y=boston['target']\n",
        "   A=X[:4, [0,4,5,6]] # 'CRIM','NOX','RM','AGE'\n",
        "   b=y[:4]\n",
        "   ```\n",
        "\n",
        "6. Find the weight vector w when the Boston house price problem is solved with the linear prediction model X_w = y ̂ by the least-squares method. Matrix and vector data can be obtained as follows.\n",
        "\n",
        "   ※ This question is related to Question 5.\n",
        "\n",
        "   ```python\n",
        "   import pandas as pd\n",
        "   import numpy as np\n",
        "   \n",
        "   def load_boston():\n",
        "       data_url = \"http://lib.stat.cmu.edu/datasets/boston\"\n",
        "       raw_df = pd.read_csv(data_url, sep=\"\\s+\", skiprows=22, header=None)\n",
        "       data = np.hstack([raw_df.values[::2, :], raw_df.values[1::2, :2]])\n",
        "       target = raw_df.values[1::2, 2]\n",
        "       return {'data': data, 'target': target}\n",
        "   \n",
        "   boston=load_boston()\n",
        "   X=boston['data']\n",
        "   y=boston['target']\n",
        "   ```\n",
        "\n",
        "   The meaning of each column of matrix X is as follows.\n",
        "\n",
        "   - CRIM: crime rate\n",
        "   - INDUS: Non-retail commercial area ratio\n",
        "   - NOX: Nitric Oxide Concentration\n",
        "   - RM: Number of rooms per house\n",
        "   - LSTAT: Proportion of the lower class of the population\n",
        "   - B: Proportion of black people in the population\n",
        "   - PTRATIO: Student/Teacher Ratio\n",
        "   - ZN: Percentage of residential areas exceeding 25,000 square feet\n",
        "   - CHAS: 1 if located on the Charles River border, 0 otherwise\n",
        "   - AGE: Percentage of houses built before 1940\n",
        "   - RAD: Distance to radial highway\n",
        "   - DIS: Weighted average distance to 5 Boston Job Centers\n",
        "   - TAX: property tax rate\n",
        "\n",
        "   1) Run the program above to check whether the magnitude or sign of the weight vector obtained from running the program is consistent the common notion. In order to find it, interpret the printed output for all the factors suggested above.\n",
        "\n",
        "   ※ Write the interpreted output like *\"the house price is in inverse proportion to the crime rate (CRIM)\".*\n",
        "\n",
        "   2) Explain how the result differs from the value obtained in Question 5.\n",
        "\n",
        "7. The ratings given by three users a, b, and c to 4 movies are expressed as vectors as follows.\n",
        "\n",
        "   a = $\\begin{pmatrix}\n",
        "   4 \\\\\n",
        "   5 \\\\\n",
        "   \\begin{matrix}\n",
        "   2 \\\\\n",
        "   2\n",
        "   \\end{matrix}\n",
        "   \\end{pmatrix},\\ b$ = $\\begin{pmatrix}\n",
        "   4 \\\\\n",
        "   0 \\\\\n",
        "   \\begin{matrix}\n",
        "   2 \\\\\n",
        "   0\n",
        "   \\end{matrix}\n",
        "   \\end{pmatrix}$, c = $\\begin{pmatrix}\n",
        "   2 \\\\\n",
        "   2 \\\\\n",
        "   \\begin{matrix}\n",
        "   0 \\\\\n",
        "   1\n",
        "   \\end{matrix}\n",
        "   \\end{pmatrix}$\n",
        "\n",
        "   1) Find the Euclidean distance between a, b, and c. Which two users are the closest? And which two users are farthest apart?\n",
        "\n",
        "   2) Find the cosine distance between a, b, and c. Which two users are the closest? And which two users are farthest apart?\n",
        "\n",
        "8. Find the eigenvalues of the following matrix using the characteristic equation.\n",
        "\n",
        "   D=$\\begin{bmatrix}\n",
        "   2 & 1 \\\\\n",
        "   1 & 2\n",
        "   \\end{bmatrix}$\n",
        "\n",
        "9. The $\\log 2$ value is about 0.69, and the $\\log 3$ value is about 1.10. At this time, find the $\\log 12$ value.\n",
        "\n",
        "10. Find the inverse function of the logistic function.\n",
        "\n",
        "    y = $\\sigma(x)$ = $\\frac{1}{1 + exp( - x)}$\n",
        "\n",
        "11. Differentiate the following functions. In this equation, k, a, and b are constants, not variables.\n",
        "\n",
        "    A. f(x) = $x^{3} - 1$\n",
        "\n",
        "    B. f(x) = $\\log\\left( x^{2} - 3k \\right)$\n",
        "\n",
        "    C. f(x) =exp(${ax}^{b})$\n",
        "\n",
        "12. Find the first/second partial derivatives $f_{x},\\ f_{y},\\ f_{xx},\\ f_{xy},\\ f_{yx},\\ f_{yy}$ for the following function.\n",
        "\n",
        "    f(x,y) = exp($x^{2} + 2\\ y^{2})$\n",
        "\n",
        "13. Find the derivative that differentiates the following function using SymPy. In this expression, k, a, and b are constants, not variables.\n",
        "\n",
        "    A. f(x) = $x^{3} - 1$\n",
        "\n",
        "    B. f(x) = $\\log\\left( x^{2} - 3k \\right)$\n",
        "\n",
        "    C. f(x) =exp(${ax}^{b})$\n",
        "\n",
        "14. Find the first/second partial derivatives $f_{x},\\ f_{y},\\ f_{xx},\\ f_{xy},\\ f_{yx},\\ f_{yy}$ for the following function using SymPy.\n",
        "\n",
        "    f(x,y) = exp($x^{2} + 2\\ y^{2})$\n"
      ]
    },
    {
      "cell_type": "markdown",
      "metadata": {
        "id": "sIbjk66pErVQ"
      },
      "source": [
        "### Respuestas"
      ]
    },
    {
      "cell_type": "markdown",
      "metadata": {
        "id": "13BfQmbOEqSg"
      },
      "source": [
        "3. When the following code is executed, all data of the MNIST numeric image is converted into vectors to create a single NumPy matrix X. Use this matrix to solve the following problem.\n",
        "\n",
        "   ```python\n",
        "   from sklearn.datasets import load_digits\n",
        "   X=load_digits().data\n",
        "   ```\n",
        "\n",
        "   1) Find the similarity between the first image and the tenth image using dot product.\n",
        "\n",
        "   2) Find the similarity for a combination of all images using the dot product, how would it be efficient to implement it (hint: using matrices and multiplication of matrices)\n"
      ]
    },
    {
      "cell_type": "code",
      "execution_count": 2,
      "metadata": {
        "id": "LRgTPkVuFGA2"
      },
      "outputs": [],
      "source": [
        "from sklearn.datasets import load_digits\n",
        "X = load_digits().data"
      ]
    },
    {
      "cell_type": "markdown",
      "metadata": {
        "id": "P5Nuy05SGs6O"
      },
      "source": [
        "1) Halla la similitud entre la primera imagen y la décima imagen usando el producto escalar.\n",
        "\n"
      ]
    },
    {
      "cell_type": "code",
      "execution_count": 5,
      "metadata": {
        "colab": {
          "base_uri": "https://localhost:8080/"
        },
        "id": "oXHiVnymGtsX",
        "outputId": "f48aac7d-a0b2-4f87-d2ee-715e4663a2d5"
      },
      "outputs": [
        {
          "data": {
            "text/plain": [
              "2807.0"
            ]
          },
          "execution_count": 5,
          "metadata": {},
          "output_type": "execute_result"
        }
      ],
      "source": [
        "X[0] @ X[9]"
      ]
    },
    {
      "cell_type": "code",
      "execution_count": 7,
      "metadata": {
        "colab": {
          "base_uri": "https://localhost:8080/"
        },
        "id": "TaCQcqM-IBiy",
        "outputId": "9ba2e8c2-9498-412f-ec79-6f00b93ee18d"
      },
      "outputs": [
        {
          "data": {
            "text/plain": [
              "2807.0"
            ]
          },
          "execution_count": 7,
          "metadata": {},
          "output_type": "execute_result"
        }
      ],
      "source": [
        "import numpy as np\n",
        "np.dot(X[0], X[9])"
      ]
    },
    {
      "cell_type": "code",
      "execution_count": 8,
      "metadata": {
        "colab": {
          "base_uri": "https://localhost:8080/"
        },
        "id": "QaYPWvRLIOgy",
        "outputId": "402c7951-33c6-4beb-e416-9f8506bd8fba"
      },
      "outputs": [
        {
          "data": {
            "text/plain": [
              "2807.0"
            ]
          },
          "execution_count": 8,
          "metadata": {},
          "output_type": "execute_result"
        }
      ],
      "source": [
        "np.matmul(X[0], X[9])"
      ]
    },
    {
      "cell_type": "markdown",
      "metadata": {
        "id": "68S5t-HnJSOV"
      },
      "source": [
        "2) Halla la similitud para una combinación de todas las imágenes usando el producto escalar. ¿Cómo sería eficiente implementarlo? (pista: usando matrices y multiplicación de matrices)"
      ]
    },
    {
      "cell_type": "code",
      "execution_count": 10,
      "metadata": {
        "colab": {
          "base_uri": "https://localhost:8080/"
        },
        "id": "0DC96AP4JQZp",
        "outputId": "c6c7ce0e-032c-4dc5-b599-d87c1b5ed13e"
      },
      "outputs": [
        {
          "data": {
            "text/plain": [
              "array([[3070., 1866., 2264., ..., 2812., 3006., 2898.],\n",
              "       [1866., 4209., 3432., ..., 3906., 3083., 3307.],\n",
              "       [2264., 3432., 4388., ..., 4005., 3063., 3697.],\n",
              "       ...,\n",
              "       [2812., 3906., 4005., ..., 5092., 3729., 4598.],\n",
              "       [3006., 3083., 3063., ..., 3729., 4316., 3850.],\n",
              "       [2898., 3307., 3697., ..., 4598., 3850., 4938.]])"
            ]
          },
          "execution_count": 10,
          "metadata": {},
          "output_type": "execute_result"
        }
      ],
      "source": [
        "X @ X.T"
      ]
    }
  ],
  "metadata": {
    "colab": {
      "include_colab_link": true,
      "provenance": []
    },
    "kernelspec": {
      "display_name": ".venv",
      "language": "python",
      "name": "python3"
    },
    "language_info": {
      "name": "python",
      "version": "3.11.4"
    }
  },
  "nbformat": 4,
  "nbformat_minor": 0
}
