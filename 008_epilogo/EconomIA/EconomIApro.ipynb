{
  "nbformat": 4,
  "nbformat_minor": 0,
  "metadata": {
    "colab": {
      "provenance": []
    },
    "kernelspec": {
      "name": "python3",
      "display_name": "Python 3"
    },
    "language_info": {
      "name": "python"
    }
  },
  "cells": [
    {
      "cell_type": "code",
      "execution_count": 1,
      "metadata": {
        "id": "yxrfkj7EGOpx"
      },
      "outputs": [],
      "source": [
        "import pandas as pd\n",
        "# Cargar el archivo CSV\n",
        "df = pd.read_csv('DatosSinteticos.csv')"
      ]
    },
    {
      "cell_type": "code",
      "source": [
        "import pandas as pd\n",
        "from sklearn.model_selection import train_test_split\n",
        "from sklearn.feature_extraction.text import TfidfVectorizer\n",
        "from sklearn.ensemble import RandomForestClassifier\n",
        "from sklearn.metrics import accuracy_score\n",
        "from sklearn.pipeline import make_pipeline\n",
        "from sklearn.preprocessing import StandardScaler\n",
        "\n",
        "# Supongamos que tienes un DataFrame df con las columnas \"Detalle\", \"Monto (CLP)\" y \"Categoría\"\n",
        "# Convertir la columna \"Categoría\" en una variable binaria: 1 para \"Gasto Hormiga\", 0 para \"Gasto No Hormiga\"\n",
        "df['Target'] = df['Categoría'].apply(lambda x: 1 if x == \"Gasto Hormiga\" else 0)\n",
        "\n",
        "# Dividir el conjunto de datos\n",
        "X_train, X_test, y_train, y_test = train_test_split(df[['Detalle', 'Monto (CLP)']], df['Target'], test_size=0.2, random_state=42)\n",
        "\n",
        "# Configurar el vectorizador de texto y el clasificador en un pipeline\n",
        "pipeline = make_pipeline(\n",
        "    TfidfVectorizer(),  # Convierte texto en vectores TF-IDF\n",
        "    StandardScaler(with_mean=False),  # Normaliza el monto\n",
        "    RandomForestClassifier(n_estimators=100, random_state=42)  # Clasificador Random Forest\n",
        ")\n",
        "\n",
        "# Ajustar el modelo\n",
        "pipeline.fit(X_train['Detalle'], y_train)\n",
        "\n",
        "# Predicción y evaluación\n",
        "y_pred = pipeline.predict(X_test['Detalle'])\n",
        "accuracy = accuracy_score(y_test, y_pred)\n",
        "print(f\"Exactitud del modelo: {accuracy}\")\n"
      ],
      "metadata": {
        "colab": {
          "base_uri": "https://localhost:8080/"
        },
        "id": "HENOy_n7GaGx",
        "outputId": "a406a31c-2ae4-4da0-dd7b-244b985907f5"
      },
      "execution_count": 2,
      "outputs": [
        {
          "output_type": "stream",
          "name": "stdout",
          "text": [
            "Exactitud del modelo: 0.995049504950495\n"
          ]
        }
      ]
    },
    {
      "cell_type": "code",
      "source": [
        "from sklearn.metrics import confusion_matrix, classification_report\n",
        "\n",
        "# Predicción en el conjunto de prueba\n",
        "y_pred = pipeline.predict(X_test['Detalle'])\n",
        "\n",
        "# Matriz de confusión\n",
        "conf_matrix = confusion_matrix(y_test, y_pred)\n",
        "print(\"Matriz de Confusión:\")\n",
        "print(conf_matrix)\n",
        "\n",
        "# Reporte de clasificación\n",
        "print(\"\\nReporte de Clasificación:\")\n",
        "print(classification_report(y_test, y_pred))\n"
      ],
      "metadata": {
        "colab": {
          "base_uri": "https://localhost:8080/"
        },
        "id": "mRK6E9csGlca",
        "outputId": "45fcc3df-b0e7-48aa-8f87-44d9be95e715"
      },
      "execution_count": 3,
      "outputs": [
        {
          "output_type": "stream",
          "name": "stdout",
          "text": [
            "Matriz de Confusión:\n",
            "[[119   0]\n",
            " [  1  82]]\n",
            "\n",
            "Reporte de Clasificación:\n",
            "              precision    recall  f1-score   support\n",
            "\n",
            "           0       0.99      1.00      1.00       119\n",
            "           1       1.00      0.99      0.99        83\n",
            "\n",
            "    accuracy                           1.00       202\n",
            "   macro avg       1.00      0.99      0.99       202\n",
            "weighted avg       1.00      1.00      1.00       202\n",
            "\n"
          ]
        }
      ]
    }
  ]
}