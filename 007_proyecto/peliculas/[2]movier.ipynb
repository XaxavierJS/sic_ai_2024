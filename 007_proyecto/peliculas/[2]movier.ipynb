{
  "cells": [
    {
      "cell_type": "markdown",
      "metadata": {
        "id": "view-in-github",
        "colab_type": "text"
      },
      "source": [
        "<a href=\"https://colab.research.google.com/github/davidlealo/sic_ai_2024/blob/main/007_proyecto/peliculas/%5B2%5Dmovier.ipynb\" target=\"_parent\"><img src=\"https://colab.research.google.com/assets/colab-badge.svg\" alt=\"Open In Colab\"/></a>"
      ]
    },
    {
      "cell_type": "markdown",
      "metadata": {
        "id": "-IIvjHaAz7YV"
      },
      "source": [
        "Hola profe no si es esto a lo que se refería pero aquí tengo algunos csv y los uní JSJSJ"
      ]
    },
    {
      "cell_type": "code",
      "execution_count": 1,
      "metadata": {
        "id": "4dxxlPrpvXEU"
      },
      "outputs": [],
      "source": [
        "import numpy as np\n",
        "import pandas as pd"
      ]
    },
    {
      "cell_type": "code",
      "execution_count": 2,
      "metadata": {
        "colab": {
          "base_uri": "https://localhost:8080/"
        },
        "id": "ILHnHGFG5TMT",
        "outputId": "bdef759f-450c-4c2d-e11b-383acb72e65e"
      },
      "outputs": [
        {
          "output_type": "stream",
          "name": "stdout",
          "text": [
            "Collecting scikit-surprise\n",
            "  Downloading scikit_surprise-1.1.4.tar.gz (154 kB)\n",
            "\u001b[?25l     \u001b[90m━━━━━━━━━━━━━━━━━━━━━━━━━━━━━━━━━━━━━━━━\u001b[0m \u001b[32m0.0/154.4 kB\u001b[0m \u001b[31m?\u001b[0m eta \u001b[36m-:--:--\u001b[0m\r\u001b[2K     \u001b[90m━━━━━━━━━━━━━━━━━━━━━━━━━━━━━━━━━━━━━━━━\u001b[0m \u001b[32m154.4/154.4 kB\u001b[0m \u001b[31m9.0 MB/s\u001b[0m eta \u001b[36m0:00:00\u001b[0m\n",
            "\u001b[?25h  Installing build dependencies ... \u001b[?25l\u001b[?25hdone\n",
            "  Getting requirements to build wheel ... \u001b[?25l\u001b[?25hdone\n",
            "  Preparing metadata (pyproject.toml) ... \u001b[?25l\u001b[?25hdone\n",
            "Requirement already satisfied: joblib>=1.2.0 in /usr/local/lib/python3.10/dist-packages (from scikit-surprise) (1.4.2)\n",
            "Requirement already satisfied: numpy>=1.19.5 in /usr/local/lib/python3.10/dist-packages (from scikit-surprise) (1.26.4)\n",
            "Requirement already satisfied: scipy>=1.6.0 in /usr/local/lib/python3.10/dist-packages (from scikit-surprise) (1.13.1)\n",
            "Building wheels for collected packages: scikit-surprise\n",
            "  Building wheel for scikit-surprise (pyproject.toml) ... \u001b[?25l\u001b[?25hdone\n",
            "  Created wheel for scikit-surprise: filename=scikit_surprise-1.1.4-cp310-cp310-linux_x86_64.whl size=2357280 sha256=d4272c0b5e3f88d7063ff761c029c190b9462e29efe853ac6aedbde7e8d6993e\n",
            "  Stored in directory: /root/.cache/pip/wheels/4b/3f/df/6acbf0a40397d9bf3ff97f582cc22fb9ce66adde75bc71fd54\n",
            "Successfully built scikit-surprise\n",
            "Installing collected packages: scikit-surprise\n",
            "Successfully installed scikit-surprise-1.1.4\n"
          ]
        }
      ],
      "source": [
        "!pip install scikit-surprise"
      ]
    },
    {
      "cell_type": "code",
      "source": [
        "import os\n",
        "import urllib.request\n",
        "import zipfile\n",
        "from surprise import KNNBasic, Dataset, Reader\n",
        "from surprise import accuracy\n",
        "from surprise.model_selection import train_test_split\n",
        "from collections import defaultdict\n",
        "import pandas as pd"
      ],
      "metadata": {
        "id": "XFUJIYjX0UBu"
      },
      "execution_count": 3,
      "outputs": []
    },
    {
      "cell_type": "code",
      "source": [
        "df_muestra = pd.read_csv(\"df_muestra.csv\")\n",
        "df_muestra"
      ],
      "metadata": {
        "id": "xZtObGUXzHKD",
        "colab": {
          "base_uri": "https://localhost:8080/",
          "height": 513
        },
        "outputId": "9ba55a51-d0b4-4868-99ce-1890f04dced7"
      },
      "execution_count": 4,
      "outputs": [
        {
          "output_type": "execute_result",
          "data": {
            "text/plain": [
              "                         title  year_x rotten tomatoes  netflix  hulu  \\\n",
              "0                        Ghost    2020          45/100        0     0   \n",
              "1                       Willow    1988          75/100        0     0   \n",
              "2                        Ghost    2020          45/100        0     0   \n",
              "3                 Finding Nemo    2003          87/100        0     0   \n",
              "4                 Philadelphia    1993          79/100        0     0   \n",
              "...                        ...     ...             ...      ...   ...   \n",
              "9995             Arachnophobia    1990          70/100        0     1   \n",
              "9996       Catch Me If You Can    2002          87/100        0     1   \n",
              "9997  My Best Friend's Wedding    1997          71/100        1     0   \n",
              "9998                Fight Club    1999          93/100        0     0   \n",
              "9999                      I.Q.    1994          63/100        0     0   \n",
              "\n",
              "      prime video  disney+  movieId                                 genres  \\\n",
              "0               1        0    587.0  Comedy|Drama|Fantasy|Romance|Thriller   \n",
              "1               0        1   2193.0               Action|Adventure|Fantasy   \n",
              "2               1        0    587.0  Comedy|Drama|Fantasy|Romance|Thriller   \n",
              "3               0        1   6377.0    Adventure|Animation|Children|Comedy   \n",
              "4               1        0    508.0                                  Drama   \n",
              "...           ...      ...      ...                                    ...   \n",
              "9995            0        0   2699.0                          Comedy|Horror   \n",
              "9996            0        0   5989.0                            Crime|Drama   \n",
              "9997            0        0   1569.0                         Comedy|Romance   \n",
              "9998            1        0   2959.0            Action|Crime|Drama|Thriller   \n",
              "9999            1        0    252.0                         Comedy|Romance   \n",
              "\n",
              "        userId  rating  \n",
              "0      39481.0     4.0  \n",
              "1     110239.0     3.0  \n",
              "2      86400.0     4.5  \n",
              "3      25669.0     4.5  \n",
              "4      55955.0     4.0  \n",
              "...        ...     ...  \n",
              "9995   21552.0     3.0  \n",
              "9996   88015.0     4.0  \n",
              "9997   44988.0     3.0  \n",
              "9998   81510.0     4.0  \n",
              "9999   87333.0     3.0  \n",
              "\n",
              "[10000 rows x 11 columns]"
            ],
            "text/html": [
              "\n",
              "  <div id=\"df-d0bc93df-03c6-4123-9fb7-78290c61e3e8\" class=\"colab-df-container\">\n",
              "    <div>\n",
              "<style scoped>\n",
              "    .dataframe tbody tr th:only-of-type {\n",
              "        vertical-align: middle;\n",
              "    }\n",
              "\n",
              "    .dataframe tbody tr th {\n",
              "        vertical-align: top;\n",
              "    }\n",
              "\n",
              "    .dataframe thead th {\n",
              "        text-align: right;\n",
              "    }\n",
              "</style>\n",
              "<table border=\"1\" class=\"dataframe\">\n",
              "  <thead>\n",
              "    <tr style=\"text-align: right;\">\n",
              "      <th></th>\n",
              "      <th>title</th>\n",
              "      <th>year_x</th>\n",
              "      <th>rotten tomatoes</th>\n",
              "      <th>netflix</th>\n",
              "      <th>hulu</th>\n",
              "      <th>prime video</th>\n",
              "      <th>disney+</th>\n",
              "      <th>movieId</th>\n",
              "      <th>genres</th>\n",
              "      <th>userId</th>\n",
              "      <th>rating</th>\n",
              "    </tr>\n",
              "  </thead>\n",
              "  <tbody>\n",
              "    <tr>\n",
              "      <th>0</th>\n",
              "      <td>Ghost</td>\n",
              "      <td>2020</td>\n",
              "      <td>45/100</td>\n",
              "      <td>0</td>\n",
              "      <td>0</td>\n",
              "      <td>1</td>\n",
              "      <td>0</td>\n",
              "      <td>587.0</td>\n",
              "      <td>Comedy|Drama|Fantasy|Romance|Thriller</td>\n",
              "      <td>39481.0</td>\n",
              "      <td>4.0</td>\n",
              "    </tr>\n",
              "    <tr>\n",
              "      <th>1</th>\n",
              "      <td>Willow</td>\n",
              "      <td>1988</td>\n",
              "      <td>75/100</td>\n",
              "      <td>0</td>\n",
              "      <td>0</td>\n",
              "      <td>0</td>\n",
              "      <td>1</td>\n",
              "      <td>2193.0</td>\n",
              "      <td>Action|Adventure|Fantasy</td>\n",
              "      <td>110239.0</td>\n",
              "      <td>3.0</td>\n",
              "    </tr>\n",
              "    <tr>\n",
              "      <th>2</th>\n",
              "      <td>Ghost</td>\n",
              "      <td>2020</td>\n",
              "      <td>45/100</td>\n",
              "      <td>0</td>\n",
              "      <td>0</td>\n",
              "      <td>1</td>\n",
              "      <td>0</td>\n",
              "      <td>587.0</td>\n",
              "      <td>Comedy|Drama|Fantasy|Romance|Thriller</td>\n",
              "      <td>86400.0</td>\n",
              "      <td>4.5</td>\n",
              "    </tr>\n",
              "    <tr>\n",
              "      <th>3</th>\n",
              "      <td>Finding Nemo</td>\n",
              "      <td>2003</td>\n",
              "      <td>87/100</td>\n",
              "      <td>0</td>\n",
              "      <td>0</td>\n",
              "      <td>0</td>\n",
              "      <td>1</td>\n",
              "      <td>6377.0</td>\n",
              "      <td>Adventure|Animation|Children|Comedy</td>\n",
              "      <td>25669.0</td>\n",
              "      <td>4.5</td>\n",
              "    </tr>\n",
              "    <tr>\n",
              "      <th>4</th>\n",
              "      <td>Philadelphia</td>\n",
              "      <td>1993</td>\n",
              "      <td>79/100</td>\n",
              "      <td>0</td>\n",
              "      <td>0</td>\n",
              "      <td>1</td>\n",
              "      <td>0</td>\n",
              "      <td>508.0</td>\n",
              "      <td>Drama</td>\n",
              "      <td>55955.0</td>\n",
              "      <td>4.0</td>\n",
              "    </tr>\n",
              "    <tr>\n",
              "      <th>...</th>\n",
              "      <td>...</td>\n",
              "      <td>...</td>\n",
              "      <td>...</td>\n",
              "      <td>...</td>\n",
              "      <td>...</td>\n",
              "      <td>...</td>\n",
              "      <td>...</td>\n",
              "      <td>...</td>\n",
              "      <td>...</td>\n",
              "      <td>...</td>\n",
              "      <td>...</td>\n",
              "    </tr>\n",
              "    <tr>\n",
              "      <th>9995</th>\n",
              "      <td>Arachnophobia</td>\n",
              "      <td>1990</td>\n",
              "      <td>70/100</td>\n",
              "      <td>0</td>\n",
              "      <td>1</td>\n",
              "      <td>0</td>\n",
              "      <td>0</td>\n",
              "      <td>2699.0</td>\n",
              "      <td>Comedy|Horror</td>\n",
              "      <td>21552.0</td>\n",
              "      <td>3.0</td>\n",
              "    </tr>\n",
              "    <tr>\n",
              "      <th>9996</th>\n",
              "      <td>Catch Me If You Can</td>\n",
              "      <td>2002</td>\n",
              "      <td>87/100</td>\n",
              "      <td>0</td>\n",
              "      <td>1</td>\n",
              "      <td>0</td>\n",
              "      <td>0</td>\n",
              "      <td>5989.0</td>\n",
              "      <td>Crime|Drama</td>\n",
              "      <td>88015.0</td>\n",
              "      <td>4.0</td>\n",
              "    </tr>\n",
              "    <tr>\n",
              "      <th>9997</th>\n",
              "      <td>My Best Friend's Wedding</td>\n",
              "      <td>1997</td>\n",
              "      <td>71/100</td>\n",
              "      <td>1</td>\n",
              "      <td>0</td>\n",
              "      <td>0</td>\n",
              "      <td>0</td>\n",
              "      <td>1569.0</td>\n",
              "      <td>Comedy|Romance</td>\n",
              "      <td>44988.0</td>\n",
              "      <td>3.0</td>\n",
              "    </tr>\n",
              "    <tr>\n",
              "      <th>9998</th>\n",
              "      <td>Fight Club</td>\n",
              "      <td>1999</td>\n",
              "      <td>93/100</td>\n",
              "      <td>0</td>\n",
              "      <td>0</td>\n",
              "      <td>1</td>\n",
              "      <td>0</td>\n",
              "      <td>2959.0</td>\n",
              "      <td>Action|Crime|Drama|Thriller</td>\n",
              "      <td>81510.0</td>\n",
              "      <td>4.0</td>\n",
              "    </tr>\n",
              "    <tr>\n",
              "      <th>9999</th>\n",
              "      <td>I.Q.</td>\n",
              "      <td>1994</td>\n",
              "      <td>63/100</td>\n",
              "      <td>0</td>\n",
              "      <td>0</td>\n",
              "      <td>1</td>\n",
              "      <td>0</td>\n",
              "      <td>252.0</td>\n",
              "      <td>Comedy|Romance</td>\n",
              "      <td>87333.0</td>\n",
              "      <td>3.0</td>\n",
              "    </tr>\n",
              "  </tbody>\n",
              "</table>\n",
              "<p>10000 rows × 11 columns</p>\n",
              "</div>\n",
              "    <div class=\"colab-df-buttons\">\n",
              "\n",
              "  <div class=\"colab-df-container\">\n",
              "    <button class=\"colab-df-convert\" onclick=\"convertToInteractive('df-d0bc93df-03c6-4123-9fb7-78290c61e3e8')\"\n",
              "            title=\"Convert this dataframe to an interactive table.\"\n",
              "            style=\"display:none;\">\n",
              "\n",
              "  <svg xmlns=\"http://www.w3.org/2000/svg\" height=\"24px\" viewBox=\"0 -960 960 960\">\n",
              "    <path d=\"M120-120v-720h720v720H120Zm60-500h600v-160H180v160Zm220 220h160v-160H400v160Zm0 220h160v-160H400v160ZM180-400h160v-160H180v160Zm440 0h160v-160H620v160ZM180-180h160v-160H180v160Zm440 0h160v-160H620v160Z\"/>\n",
              "  </svg>\n",
              "    </button>\n",
              "\n",
              "  <style>\n",
              "    .colab-df-container {\n",
              "      display:flex;\n",
              "      gap: 12px;\n",
              "    }\n",
              "\n",
              "    .colab-df-convert {\n",
              "      background-color: #E8F0FE;\n",
              "      border: none;\n",
              "      border-radius: 50%;\n",
              "      cursor: pointer;\n",
              "      display: none;\n",
              "      fill: #1967D2;\n",
              "      height: 32px;\n",
              "      padding: 0 0 0 0;\n",
              "      width: 32px;\n",
              "    }\n",
              "\n",
              "    .colab-df-convert:hover {\n",
              "      background-color: #E2EBFA;\n",
              "      box-shadow: 0px 1px 2px rgba(60, 64, 67, 0.3), 0px 1px 3px 1px rgba(60, 64, 67, 0.15);\n",
              "      fill: #174EA6;\n",
              "    }\n",
              "\n",
              "    .colab-df-buttons div {\n",
              "      margin-bottom: 4px;\n",
              "    }\n",
              "\n",
              "    [theme=dark] .colab-df-convert {\n",
              "      background-color: #3B4455;\n",
              "      fill: #D2E3FC;\n",
              "    }\n",
              "\n",
              "    [theme=dark] .colab-df-convert:hover {\n",
              "      background-color: #434B5C;\n",
              "      box-shadow: 0px 1px 3px 1px rgba(0, 0, 0, 0.15);\n",
              "      filter: drop-shadow(0px 1px 2px rgba(0, 0, 0, 0.3));\n",
              "      fill: #FFFFFF;\n",
              "    }\n",
              "  </style>\n",
              "\n",
              "    <script>\n",
              "      const buttonEl =\n",
              "        document.querySelector('#df-d0bc93df-03c6-4123-9fb7-78290c61e3e8 button.colab-df-convert');\n",
              "      buttonEl.style.display =\n",
              "        google.colab.kernel.accessAllowed ? 'block' : 'none';\n",
              "\n",
              "      async function convertToInteractive(key) {\n",
              "        const element = document.querySelector('#df-d0bc93df-03c6-4123-9fb7-78290c61e3e8');\n",
              "        const dataTable =\n",
              "          await google.colab.kernel.invokeFunction('convertToInteractive',\n",
              "                                                    [key], {});\n",
              "        if (!dataTable) return;\n",
              "\n",
              "        const docLinkHtml = 'Like what you see? Visit the ' +\n",
              "          '<a target=\"_blank\" href=https://colab.research.google.com/notebooks/data_table.ipynb>data table notebook</a>'\n",
              "          + ' to learn more about interactive tables.';\n",
              "        element.innerHTML = '';\n",
              "        dataTable['output_type'] = 'display_data';\n",
              "        await google.colab.output.renderOutput(dataTable, element);\n",
              "        const docLink = document.createElement('div');\n",
              "        docLink.innerHTML = docLinkHtml;\n",
              "        element.appendChild(docLink);\n",
              "      }\n",
              "    </script>\n",
              "  </div>\n",
              "\n",
              "\n",
              "<div id=\"df-2d8dba70-29fb-478d-942b-856141b44133\">\n",
              "  <button class=\"colab-df-quickchart\" onclick=\"quickchart('df-2d8dba70-29fb-478d-942b-856141b44133')\"\n",
              "            title=\"Suggest charts\"\n",
              "            style=\"display:none;\">\n",
              "\n",
              "<svg xmlns=\"http://www.w3.org/2000/svg\" height=\"24px\"viewBox=\"0 0 24 24\"\n",
              "     width=\"24px\">\n",
              "    <g>\n",
              "        <path d=\"M19 3H5c-1.1 0-2 .9-2 2v14c0 1.1.9 2 2 2h14c1.1 0 2-.9 2-2V5c0-1.1-.9-2-2-2zM9 17H7v-7h2v7zm4 0h-2V7h2v10zm4 0h-2v-4h2v4z\"/>\n",
              "    </g>\n",
              "</svg>\n",
              "  </button>\n",
              "\n",
              "<style>\n",
              "  .colab-df-quickchart {\n",
              "      --bg-color: #E8F0FE;\n",
              "      --fill-color: #1967D2;\n",
              "      --hover-bg-color: #E2EBFA;\n",
              "      --hover-fill-color: #174EA6;\n",
              "      --disabled-fill-color: #AAA;\n",
              "      --disabled-bg-color: #DDD;\n",
              "  }\n",
              "\n",
              "  [theme=dark] .colab-df-quickchart {\n",
              "      --bg-color: #3B4455;\n",
              "      --fill-color: #D2E3FC;\n",
              "      --hover-bg-color: #434B5C;\n",
              "      --hover-fill-color: #FFFFFF;\n",
              "      --disabled-bg-color: #3B4455;\n",
              "      --disabled-fill-color: #666;\n",
              "  }\n",
              "\n",
              "  .colab-df-quickchart {\n",
              "    background-color: var(--bg-color);\n",
              "    border: none;\n",
              "    border-radius: 50%;\n",
              "    cursor: pointer;\n",
              "    display: none;\n",
              "    fill: var(--fill-color);\n",
              "    height: 32px;\n",
              "    padding: 0;\n",
              "    width: 32px;\n",
              "  }\n",
              "\n",
              "  .colab-df-quickchart:hover {\n",
              "    background-color: var(--hover-bg-color);\n",
              "    box-shadow: 0 1px 2px rgba(60, 64, 67, 0.3), 0 1px 3px 1px rgba(60, 64, 67, 0.15);\n",
              "    fill: var(--button-hover-fill-color);\n",
              "  }\n",
              "\n",
              "  .colab-df-quickchart-complete:disabled,\n",
              "  .colab-df-quickchart-complete:disabled:hover {\n",
              "    background-color: var(--disabled-bg-color);\n",
              "    fill: var(--disabled-fill-color);\n",
              "    box-shadow: none;\n",
              "  }\n",
              "\n",
              "  .colab-df-spinner {\n",
              "    border: 2px solid var(--fill-color);\n",
              "    border-color: transparent;\n",
              "    border-bottom-color: var(--fill-color);\n",
              "    animation:\n",
              "      spin 1s steps(1) infinite;\n",
              "  }\n",
              "\n",
              "  @keyframes spin {\n",
              "    0% {\n",
              "      border-color: transparent;\n",
              "      border-bottom-color: var(--fill-color);\n",
              "      border-left-color: var(--fill-color);\n",
              "    }\n",
              "    20% {\n",
              "      border-color: transparent;\n",
              "      border-left-color: var(--fill-color);\n",
              "      border-top-color: var(--fill-color);\n",
              "    }\n",
              "    30% {\n",
              "      border-color: transparent;\n",
              "      border-left-color: var(--fill-color);\n",
              "      border-top-color: var(--fill-color);\n",
              "      border-right-color: var(--fill-color);\n",
              "    }\n",
              "    40% {\n",
              "      border-color: transparent;\n",
              "      border-right-color: var(--fill-color);\n",
              "      border-top-color: var(--fill-color);\n",
              "    }\n",
              "    60% {\n",
              "      border-color: transparent;\n",
              "      border-right-color: var(--fill-color);\n",
              "    }\n",
              "    80% {\n",
              "      border-color: transparent;\n",
              "      border-right-color: var(--fill-color);\n",
              "      border-bottom-color: var(--fill-color);\n",
              "    }\n",
              "    90% {\n",
              "      border-color: transparent;\n",
              "      border-bottom-color: var(--fill-color);\n",
              "    }\n",
              "  }\n",
              "</style>\n",
              "\n",
              "  <script>\n",
              "    async function quickchart(key) {\n",
              "      const quickchartButtonEl =\n",
              "        document.querySelector('#' + key + ' button');\n",
              "      quickchartButtonEl.disabled = true;  // To prevent multiple clicks.\n",
              "      quickchartButtonEl.classList.add('colab-df-spinner');\n",
              "      try {\n",
              "        const charts = await google.colab.kernel.invokeFunction(\n",
              "            'suggestCharts', [key], {});\n",
              "      } catch (error) {\n",
              "        console.error('Error during call to suggestCharts:', error);\n",
              "      }\n",
              "      quickchartButtonEl.classList.remove('colab-df-spinner');\n",
              "      quickchartButtonEl.classList.add('colab-df-quickchart-complete');\n",
              "    }\n",
              "    (() => {\n",
              "      let quickchartButtonEl =\n",
              "        document.querySelector('#df-2d8dba70-29fb-478d-942b-856141b44133 button');\n",
              "      quickchartButtonEl.style.display =\n",
              "        google.colab.kernel.accessAllowed ? 'block' : 'none';\n",
              "    })();\n",
              "  </script>\n",
              "</div>\n",
              "\n",
              "  <div id=\"id_ac40e691-b171-4a6f-a197-0ba3d4ba3846\">\n",
              "    <style>\n",
              "      .colab-df-generate {\n",
              "        background-color: #E8F0FE;\n",
              "        border: none;\n",
              "        border-radius: 50%;\n",
              "        cursor: pointer;\n",
              "        display: none;\n",
              "        fill: #1967D2;\n",
              "        height: 32px;\n",
              "        padding: 0 0 0 0;\n",
              "        width: 32px;\n",
              "      }\n",
              "\n",
              "      .colab-df-generate:hover {\n",
              "        background-color: #E2EBFA;\n",
              "        box-shadow: 0px 1px 2px rgba(60, 64, 67, 0.3), 0px 1px 3px 1px rgba(60, 64, 67, 0.15);\n",
              "        fill: #174EA6;\n",
              "      }\n",
              "\n",
              "      [theme=dark] .colab-df-generate {\n",
              "        background-color: #3B4455;\n",
              "        fill: #D2E3FC;\n",
              "      }\n",
              "\n",
              "      [theme=dark] .colab-df-generate:hover {\n",
              "        background-color: #434B5C;\n",
              "        box-shadow: 0px 1px 3px 1px rgba(0, 0, 0, 0.15);\n",
              "        filter: drop-shadow(0px 1px 2px rgba(0, 0, 0, 0.3));\n",
              "        fill: #FFFFFF;\n",
              "      }\n",
              "    </style>\n",
              "    <button class=\"colab-df-generate\" onclick=\"generateWithVariable('df_muestra')\"\n",
              "            title=\"Generate code using this dataframe.\"\n",
              "            style=\"display:none;\">\n",
              "\n",
              "  <svg xmlns=\"http://www.w3.org/2000/svg\" height=\"24px\"viewBox=\"0 0 24 24\"\n",
              "       width=\"24px\">\n",
              "    <path d=\"M7,19H8.4L18.45,9,17,7.55,7,17.6ZM5,21V16.75L18.45,3.32a2,2,0,0,1,2.83,0l1.4,1.43a1.91,1.91,0,0,1,.58,1.4,1.91,1.91,0,0,1-.58,1.4L9.25,21ZM18.45,9,17,7.55Zm-12,3A5.31,5.31,0,0,0,4.9,8.1,5.31,5.31,0,0,0,1,6.5,5.31,5.31,0,0,0,4.9,4.9,5.31,5.31,0,0,0,6.5,1,5.31,5.31,0,0,0,8.1,4.9,5.31,5.31,0,0,0,12,6.5,5.46,5.46,0,0,0,6.5,12Z\"/>\n",
              "  </svg>\n",
              "    </button>\n",
              "    <script>\n",
              "      (() => {\n",
              "      const buttonEl =\n",
              "        document.querySelector('#id_ac40e691-b171-4a6f-a197-0ba3d4ba3846 button.colab-df-generate');\n",
              "      buttonEl.style.display =\n",
              "        google.colab.kernel.accessAllowed ? 'block' : 'none';\n",
              "\n",
              "      buttonEl.onclick = () => {\n",
              "        google.colab.notebook.generateWithVariable('df_muestra');\n",
              "      }\n",
              "      })();\n",
              "    </script>\n",
              "  </div>\n",
              "\n",
              "    </div>\n",
              "  </div>\n"
            ],
            "application/vnd.google.colaboratory.intrinsic+json": {
              "type": "dataframe",
              "variable_name": "df_muestra",
              "summary": "{\n  \"name\": \"df_muestra\",\n  \"rows\": 10000,\n  \"fields\": [\n    {\n      \"column\": \"title\",\n      \"properties\": {\n        \"dtype\": \"category\",\n        \"num_unique_values\": 803,\n        \"samples\": [\n          \"Nacho Libre\",\n          \"Brother\",\n          \"Midnight\"\n        ],\n        \"semantic_type\": \"\",\n        \"description\": \"\"\n      }\n    },\n    {\n      \"column\": \"year_x\",\n      \"properties\": {\n        \"dtype\": \"number\",\n        \"std\": 17,\n        \"min\": 1922,\n        \"max\": 2021,\n        \"num_unique_values\": 85,\n        \"samples\": [\n          1978,\n          2020,\n          2014\n        ],\n        \"semantic_type\": \"\",\n        \"description\": \"\"\n      }\n    },\n    {\n      \"column\": \"rotten tomatoes\",\n      \"properties\": {\n        \"dtype\": \"category\",\n        \"num_unique_values\": 58,\n        \"samples\": [\n          \"45/100\",\n          \"52/100\",\n          \"63/100\"\n        ],\n        \"semantic_type\": \"\",\n        \"description\": \"\"\n      }\n    },\n    {\n      \"column\": \"netflix\",\n      \"properties\": {\n        \"dtype\": \"number\",\n        \"std\": 0,\n        \"min\": 0,\n        \"max\": 1,\n        \"num_unique_values\": 2,\n        \"samples\": [\n          1,\n          0\n        ],\n        \"semantic_type\": \"\",\n        \"description\": \"\"\n      }\n    },\n    {\n      \"column\": \"hulu\",\n      \"properties\": {\n        \"dtype\": \"number\",\n        \"std\": 0,\n        \"min\": 0,\n        \"max\": 1,\n        \"num_unique_values\": 2,\n        \"samples\": [\n          1,\n          0\n        ],\n        \"semantic_type\": \"\",\n        \"description\": \"\"\n      }\n    },\n    {\n      \"column\": \"prime video\",\n      \"properties\": {\n        \"dtype\": \"number\",\n        \"std\": 0,\n        \"min\": 0,\n        \"max\": 1,\n        \"num_unique_values\": 2,\n        \"samples\": [\n          0,\n          1\n        ],\n        \"semantic_type\": \"\",\n        \"description\": \"\"\n      }\n    },\n    {\n      \"column\": \"disney+\",\n      \"properties\": {\n        \"dtype\": \"number\",\n        \"std\": 0,\n        \"min\": 0,\n        \"max\": 1,\n        \"num_unique_values\": 2,\n        \"samples\": [\n          1,\n          0\n        ],\n        \"semantic_type\": \"\",\n        \"description\": \"\"\n      }\n    },\n    {\n      \"column\": \"movieId\",\n      \"properties\": {\n        \"dtype\": \"number\",\n        \"std\": 23751.361566908923,\n        \"min\": 1.0,\n        \"max\": 127088.0,\n        \"num_unique_values\": 845,\n        \"samples\": [\n          70293.0,\n          7376.0\n        ],\n        \"semantic_type\": \"\",\n        \"description\": \"\"\n      }\n    },\n    {\n      \"column\": \"genres\",\n      \"properties\": {\n        \"dtype\": \"category\",\n        \"num_unique_values\": 274,\n        \"samples\": [\n          \"Action|Crime|Drama|Thriller\",\n          \"Drama|Mystery\"\n        ],\n        \"semantic_type\": \"\",\n        \"description\": \"\"\n      }\n    },\n    {\n      \"column\": \"userId\",\n      \"properties\": {\n        \"dtype\": \"number\",\n        \"std\": 39863.08943782717,\n        \"min\": 11.0,\n        \"max\": 138492.0,\n        \"num_unique_values\": 8993,\n        \"samples\": [\n          98781.0,\n          134565.0\n        ],\n        \"semantic_type\": \"\",\n        \"description\": \"\"\n      }\n    },\n    {\n      \"column\": \"rating\",\n      \"properties\": {\n        \"dtype\": \"number\",\n        \"std\": 1.0390490555281477,\n        \"min\": 0.5,\n        \"max\": 5.0,\n        \"num_unique_values\": 10,\n        \"samples\": [\n          0.5,\n          3.0\n        ],\n        \"semantic_type\": \"\",\n        \"description\": \"\"\n      }\n    }\n  ]\n}"
            }
          },
          "metadata": {},
          "execution_count": 4
        }
      ]
    },
    {
      "cell_type": "code",
      "source": [
        "# Crear un diccionario para mapear id de película a título\n",
        "movie_id_to_title = dict(zip(df_muestra['movieId'], df_muestra['title']))"
      ],
      "metadata": {
        "id": "VhbVk8U20YMu"
      },
      "execution_count": 5,
      "outputs": []
    },
    {
      "cell_type": "code",
      "execution_count": 8,
      "metadata": {
        "id": "LkphNIBS41rD",
        "colab": {
          "base_uri": "https://localhost:8080/"
        },
        "outputId": "a0a16539-4121-4e78-8e92-3312d6822483"
      },
      "outputs": [
        {
          "output_type": "stream",
          "name": "stdout",
          "text": [
            "Computing the cosine similarity matrix...\n",
            "Done computing similarity matrix.\n",
            "RMSE: 1.0229\n",
            "RMSE: 1.0229059869754515\n",
            "\n",
            "Top 5 recomendaciones para el usuario 94976.0:\n",
            "Película: Spanglish, Calificación estimada: 3.51\n",
            "\n",
            "Todas las predicciones para el usuario 94976.0:\n",
            "Película: Spanglish, Calificación estimada: 3.51\n"
          ]
        }
      ],
      "source": [
        "reader = Reader(rating_scale=(0.5, 5))  # Ajusta el rango de calificación si es diferente\n",
        "data = Dataset.load_from_df(df_muestra[['userId', 'title', 'rating']], reader)\n",
        "\n",
        "# Dividir el dataset en conjunto de entrenamiento y prueba\n",
        "trainset, testset = train_test_split(data, test_size=.25)\n",
        "\n",
        "# Crear el algoritmo KNNBasic\n",
        "modelo = KNNBasic(k=40, sim_options={'name': 'cosine', 'user_based': True})\n",
        "\n",
        "# Entrenar el algoritmo con el conjunto de entrenamiento\n",
        "modelo.fit(trainset)\n",
        "\n",
        "# Hacer predicciones en el conjunto de prueba\n",
        "predictions = modelo.test(testset)\n",
        "\n",
        "# Calcular el RMSE (Root Mean Squared Error)\n",
        "rmse = accuracy.rmse(predictions)\n",
        "print(f\"RMSE: {rmse}\")\n",
        "\n",
        "# Función para obtener las top N recomendaciones\n",
        "def get_top_n(predictions, n=5):\n",
        "    top_n = defaultdict(list)\n",
        "    for uid, iid, true_r, est, _ in predictions:\n",
        "        top_n[uid].append((iid, est))\n",
        "\n",
        "    # Ordenar las predicciones para cada usuario y obtener las top n\n",
        "    for uid, user_ratings in top_n.items():\n",
        "        user_ratings.sort(key=lambda x: x[1], reverse=True)\n",
        "        top_n[uid] = user_ratings[:n]\n",
        "\n",
        "    return dict(top_n)\n",
        "\n",
        "# Obtener las top 5 recomendaciones para todos los usuarios\n",
        "top_n = get_top_n(predictions, n=5)\n",
        "\n",
        "# Mostrar las top 5 recomendaciones para el primer usuario disponible\n",
        "first_user_id = list(top_n.keys())[0]  # Obtener el primer usuario disponible\n",
        "print(f\"\\nTop 5 recomendaciones para el usuario {first_user_id}:\")\n",
        "for iid, rating in top_n[first_user_id]:\n",
        "    # Si iid ya es un título, no hace falta convertirlo a entero\n",
        "    pelicula = movie_id_to_title.get(int(iid), iid) if iid.isdigit() else iid\n",
        "    print(f\"Película: {pelicula}, Calificación estimada: {rating:.2f}\")\n",
        "\n",
        "# Mostrar todas las predicciones para el primer usuario disponible\n",
        "print(f\"\\nTodas las predicciones para el usuario {first_user_id}:\")\n",
        "user_predictions = [pred for pred in predictions if pred.uid == first_user_id]\n",
        "for prediction in sorted(user_predictions, key=lambda x: x.est, reverse=True)[:10]:\n",
        "    pelicula = movie_id_to_title.get(int(prediction.iid), prediction.iid) if prediction.iid.isdigit() else prediction.iid\n",
        "    print(f\"Película: {pelicula}, Calificación estimada: {prediction.est:.2f}\")\n"
      ]
    },
    {
      "cell_type": "code",
      "source": [
        "# Mostrar las top 5 recomendaciones para el primer usuario disponible\n",
        "first_user_id = list(top_n.keys())[0]  # Obtener el primer usuario disponible\n",
        "print(f\"\\nTop 5 recomendaciones para el usuario {first_user_id}:\")\n",
        "for iid, rating in top_n[first_user_id]:\n",
        "    # Buscar el título de la película usando el movieId en lugar de convertir a int\n",
        "    pelicula = df_muestra[df_muestra['movieId'] == float(iid)]['title'].values[0] if iid.isdigit() else iid\n",
        "    print(f\"Película: {pelicula}, Calificación estimada: {rating:.2f}\")\n",
        "\n",
        "# Mostrar todas las predicciones para el primer usuario disponible\n",
        "print(f\"\\nTodas las predicciones para el usuario {first_user_id}:\")\n",
        "user_predictions = [pred for pred in predictions if pred.uid == first_user_id]\n",
        "for prediction in sorted(user_predictions, key=lambda x: x.est, reverse=True)[:10]:\n",
        "    pelicula = df_muestra[df_muestra['movieId'] == float(prediction.iid)]['title'].values[0] if prediction.iid.isdigit() else prediction.iid\n",
        "    print(f\"Película: {pelicula}, Calificación estimada: {prediction.est:.2f}\")\n"
      ],
      "metadata": {
        "colab": {
          "base_uri": "https://localhost:8080/"
        },
        "id": "DTy2jMaOpdX_",
        "outputId": "fa46766c-b761-4234-f648-06a693071570"
      },
      "execution_count": 9,
      "outputs": [
        {
          "output_type": "stream",
          "name": "stdout",
          "text": [
            "\n",
            "Top 5 recomendaciones para el usuario 94976.0:\n",
            "Película: Spanglish, Calificación estimada: 3.51\n",
            "\n",
            "Todas las predicciones para el usuario 94976.0:\n",
            "Película: Spanglish, Calificación estimada: 3.51\n"
          ]
        }
      ]
    },
    {
      "cell_type": "code",
      "source": [
        "import random\n",
        "from IPython.display import Javascript, display, HTML\n",
        "from google.colab.output import eval_js\n",
        "import pandas as pd\n",
        "import numpy as np\n",
        "from surprise import Dataset, Reader, SVD\n",
        "\n",
        "# Asumimos que df_muestra ya está cargado con las películas y ratings\n",
        "\n",
        "# Convertir el DataFrame en el formato esperado por Surprise\n",
        "reader = Reader(rating_scale=(0.5, 5))\n",
        "data = Dataset.load_from_df(df_muestra[['userId', 'movieId', 'rating']], reader)\n",
        "\n",
        "# Entrenar el modelo con Surprise\n",
        "trainset = data.build_full_trainset()\n",
        "modelo_svd = SVD()\n",
        "modelo_svd.fit(trainset)\n",
        "\n",
        "# Función para obtener recomendaciones de películas basadas en predicciones\n",
        "def get_top_movies_for_user(user_id, last_liked_movie_id=None, n=5):\n",
        "    # Obtener todas las películas que el usuario no ha visto\n",
        "    unseen_movies = set(df_muestra['movieId']) - set(df_muestra[df_muestra['userId'] == user_id]['movieId'])\n",
        "\n",
        "    # Predecir ratings para estas películas usando el modelo de Surprise\n",
        "    predictions = [(movie_id, modelo_svd.predict(user_id, movie_id).est) for movie_id in unseen_movies]\n",
        "\n",
        "    # Si hay una película que le gustó, filtrar por similitud\n",
        "    if last_liked_movie_id is not None:\n",
        "        # Filtrar las películas que tengan un score más cercano a la última película que le gustó\n",
        "        similar_movies = [(movie_id, score) for movie_id, score in predictions if abs(score - modelo_svd.predict(user_id, last_liked_movie_id).est) < 0.1]\n",
        "        predictions = similar_movies if similar_movies else predictions  # Si no hay similares, usar todas\n",
        "\n",
        "    # Ordenar por rating predicho y devolver las top n\n",
        "    return sorted(predictions, key=lambda x: x[1], reverse=True)[:n]\n",
        "\n",
        "# Inicializar lista de películas recomendadas para un usuario aleatorio\n",
        "def inicializar_recomendaciones():\n",
        "    global user_id, recommended_movies, current_index, last_liked_movie_id\n",
        "    user_id = random.choice(df_muestra['userId'].unique())  # Seleccionar un usuario al azar\n",
        "    recommended_movies = get_top_movies_for_user(user_id)\n",
        "    current_index = 0\n",
        "    last_liked_movie_id = None  # Reiniciar la última película que le gustó\n",
        "\n",
        "inicializar_recomendaciones()  # Generar la primera recomendación\n",
        "\n",
        "liked_movies = []  # Lista para almacenar películas que le gustan\n",
        "like_count = 0  # Contador de \"me gusta\"\n",
        "\n",
        "def create_buttons(movie_title):\n",
        "    movie_title_escaped = movie_title.replace(\"'\", \"\\'\").replace('\"', '\\\"')  # Escapar caracteres\n",
        "    display(Javascript(f'''\n",
        "        var div = document.createElement('div');\n",
        "        var btn1 = document.createElement('button');\n",
        "        btn1.innerHTML = 'Me gusta: {movie_title_escaped}';\n",
        "        btn1.onclick = function() {{\n",
        "          google.colab.kernel.invokeFunction('notebook.callback', ['Me gusta', '{movie_title_escaped}'], {{}});\n",
        "        }};\n",
        "\n",
        "        var btn2 = document.createElement('button');\n",
        "        btn2.innerHTML = 'No me gusta: {movie_title_escaped}';\n",
        "        btn2.onclick = function() {{\n",
        "          google.colab.kernel.invokeFunction('notebook.callback', ['No me gusta', '{movie_title_escaped}'], {{}});\n",
        "        }};\n",
        "\n",
        "        div.appendChild(btn1);\n",
        "        div.appendChild(btn2);\n",
        "        document.body.appendChild(div);\n",
        "    '''))\n",
        "\n",
        "def handle_choice(choice, movie_title):\n",
        "    global user_id, recommended_movies, current_index, last_liked_movie_id, liked_movies, like_count\n",
        "\n",
        "    print(f'Has elegido: {choice} para {movie_title}')\n",
        "\n",
        "    if choice == 'Me gusta':\n",
        "        # Obtener el ID de la película\n",
        "        movie_id = df_muestra[df_muestra['title'] == movie_title]['movieId'].values[0]\n",
        "\n",
        "        # Guardar la última película que le gustó\n",
        "        last_liked_movie_id = movie_id\n",
        "        liked_movies.append(movie_title)  # Guardar título de la película\n",
        "        like_count += 1  # Incrementar el contador de \"me gusta\"\n",
        "\n",
        "        # Verificar si ha alcanzado 6 \"me gusta\"\n",
        "        if like_count >= 6:\n",
        "            # Crear el mensaje final con las películas que le gustaron\n",
        "            final_message = \"Te gustan las siguientes películas:\\n\"\n",
        "            final_message += ', '.join(liked_movies)\n",
        "\n",
        "            display(HTML(final_message))\n",
        "            return  # Termina el programa\n",
        "\n",
        "        current_index += 1\n",
        "        if current_index < len(recommended_movies):\n",
        "            next_movie_id, next_score = recommended_movies[current_index]\n",
        "            next_movie_title = df_muestra[df_muestra['movieId'] == next_movie_id]['title'].values[0]\n",
        "            print(f\"Película recomendada: {next_movie_title}, score: {next_score}\")\n",
        "            create_buttons(next_movie_title)\n",
        "        else:\n",
        "            print(\"No hay más películas en la lista de recomendaciones. Seleccionando un nuevo usuario.\")\n",
        "            inicializar_recomendaciones()\n",
        "            next_movie_id, next_score = recommended_movies[current_index]\n",
        "            next_movie_title = df_muestra[df_muestra['movieId'] == next_movie_id]['title'].values[0]\n",
        "            print(f\"Nuevo usuario seleccionado. Película recomendada: {next_movie_title}, score: {next_score}\")\n",
        "            create_buttons(next_movie_title)\n",
        "    else:\n",
        "        # Seleccionar una nueva película si elige 'No me gusta'\n",
        "        unseen_movies = set(df_muestra['movieId']) - set(df_muestra[df_muestra['userId'] == user_id]['movieId'])\n",
        "        next_movie_id = random.choice(list(unseen_movies))\n",
        "        next_movie_title = df_muestra[df_muestra['movieId'] == next_movie_id]['title'].values[0]\n",
        "        next_score = modelo_svd.predict(user_id, next_movie_id).est\n",
        "        print(f\"Nueva película recomendada: {next_movie_title}, score: {next_score}\")\n",
        "        create_buttons(next_movie_title)\n",
        "\n",
        "# Registrar la función en Google Colab\n",
        "from google.colab import output\n",
        "output.register_callback('notebook.callback', handle_choice)\n",
        "\n",
        "# Mostrar la primera película recomendada\n",
        "first_movie_id, first_score = recommended_movies[current_index]\n",
        "first_movie_title = df_muestra[df_muestra['movieId'] == first_movie_id]['title'].values[0]\n",
        "print(f\"Película recomendada: {first_movie_title}, score: {first_score}\")\n",
        "create_buttons(first_movie_title)\n"
      ],
      "metadata": {
        "colab": {
          "base_uri": "https://localhost:8080/",
          "height": 924
        },
        "id": "bA077X8ZqJzk",
        "outputId": "60b95fc8-c275-4f0c-9ed2-57f3843a0657"
      },
      "execution_count": 10,
      "outputs": [
        {
          "output_type": "stream",
          "name": "stdout",
          "text": [
            "Película recomendada: Rebecca, score: 4.207787318423066\n"
          ]
        },
        {
          "output_type": "display_data",
          "data": {
            "text/plain": [
              "<IPython.core.display.Javascript object>"
            ],
            "application/javascript": [
              "\n",
              "        var div = document.createElement('div');\n",
              "        var btn1 = document.createElement('button');\n",
              "        btn1.innerHTML = 'Me gusta: Rebecca';\n",
              "        btn1.onclick = function() {\n",
              "          google.colab.kernel.invokeFunction('notebook.callback', ['Me gusta', 'Rebecca'], {});\n",
              "        };\n",
              "\n",
              "        var btn2 = document.createElement('button');\n",
              "        btn2.innerHTML = 'No me gusta: Rebecca';\n",
              "        btn2.onclick = function() {\n",
              "          google.colab.kernel.invokeFunction('notebook.callback', ['No me gusta', 'Rebecca'], {});\n",
              "        };\n",
              "\n",
              "        div.appendChild(btn1);\n",
              "        div.appendChild(btn2);\n",
              "        document.body.appendChild(div);\n",
              "    "
            ]
          },
          "metadata": {}
        },
        {
          "output_type": "stream",
          "name": "stdout",
          "text": [
            "Has elegido: No me gusta para Rebecca\n",
            "Nueva película recomendada: Big Fish, score: 3.8186110538952\n"
          ]
        },
        {
          "output_type": "display_data",
          "data": {
            "text/plain": [
              "<IPython.core.display.Javascript object>"
            ],
            "application/javascript": [
              "\n",
              "        var div = document.createElement('div');\n",
              "        var btn1 = document.createElement('button');\n",
              "        btn1.innerHTML = 'Me gusta: Big Fish';\n",
              "        btn1.onclick = function() {\n",
              "          google.colab.kernel.invokeFunction('notebook.callback', ['Me gusta', 'Big Fish'], {});\n",
              "        };\n",
              "\n",
              "        var btn2 = document.createElement('button');\n",
              "        btn2.innerHTML = 'No me gusta: Big Fish';\n",
              "        btn2.onclick = function() {\n",
              "          google.colab.kernel.invokeFunction('notebook.callback', ['No me gusta', 'Big Fish'], {});\n",
              "        };\n",
              "\n",
              "        div.appendChild(btn1);\n",
              "        div.appendChild(btn2);\n",
              "        document.body.appendChild(div);\n",
              "    "
            ]
          },
          "metadata": {}
        },
        {
          "output_type": "stream",
          "name": "stdout",
          "text": [
            "Has elegido: Me gusta para Big Fish\n",
            "Película recomendada: There Will Be Blood, score: 4.164938543488736\n"
          ]
        },
        {
          "output_type": "display_data",
          "data": {
            "text/plain": [
              "<IPython.core.display.Javascript object>"
            ],
            "application/javascript": [
              "\n",
              "        var div = document.createElement('div');\n",
              "        var btn1 = document.createElement('button');\n",
              "        btn1.innerHTML = 'Me gusta: There Will Be Blood';\n",
              "        btn1.onclick = function() {\n",
              "          google.colab.kernel.invokeFunction('notebook.callback', ['Me gusta', 'There Will Be Blood'], {});\n",
              "        };\n",
              "\n",
              "        var btn2 = document.createElement('button');\n",
              "        btn2.innerHTML = 'No me gusta: There Will Be Blood';\n",
              "        btn2.onclick = function() {\n",
              "          google.colab.kernel.invokeFunction('notebook.callback', ['No me gusta', 'There Will Be Blood'], {});\n",
              "        };\n",
              "\n",
              "        div.appendChild(btn1);\n",
              "        div.appendChild(btn2);\n",
              "        document.body.appendChild(div);\n",
              "    "
            ]
          },
          "metadata": {}
        },
        {
          "output_type": "stream",
          "name": "stdout",
          "text": [
            "Has elegido: Me gusta para There Will Be Blood\n",
            "Película recomendada: Psycho, score: 4.145897999700267\n"
          ]
        },
        {
          "output_type": "display_data",
          "data": {
            "text/plain": [
              "<IPython.core.display.Javascript object>"
            ],
            "application/javascript": [
              "\n",
              "        var div = document.createElement('div');\n",
              "        var btn1 = document.createElement('button');\n",
              "        btn1.innerHTML = 'Me gusta: Psycho';\n",
              "        btn1.onclick = function() {\n",
              "          google.colab.kernel.invokeFunction('notebook.callback', ['Me gusta', 'Psycho'], {});\n",
              "        };\n",
              "\n",
              "        var btn2 = document.createElement('button');\n",
              "        btn2.innerHTML = 'No me gusta: Psycho';\n",
              "        btn2.onclick = function() {\n",
              "          google.colab.kernel.invokeFunction('notebook.callback', ['No me gusta', 'Psycho'], {});\n",
              "        };\n",
              "\n",
              "        div.appendChild(btn1);\n",
              "        div.appendChild(btn2);\n",
              "        document.body.appendChild(div);\n",
              "    "
            ]
          },
          "metadata": {}
        },
        {
          "output_type": "stream",
          "name": "stdout",
          "text": [
            "Has elegido: Me gusta para Psycho\n",
            "Película recomendada: Monty Python and the Holy Grail, score: 4.112145995898502\n"
          ]
        },
        {
          "output_type": "display_data",
          "data": {
            "text/plain": [
              "<IPython.core.display.Javascript object>"
            ],
            "application/javascript": [
              "\n",
              "        var div = document.createElement('div');\n",
              "        var btn1 = document.createElement('button');\n",
              "        btn1.innerHTML = 'Me gusta: Monty Python and the Holy Grail';\n",
              "        btn1.onclick = function() {\n",
              "          google.colab.kernel.invokeFunction('notebook.callback', ['Me gusta', 'Monty Python and the Holy Grail'], {});\n",
              "        };\n",
              "\n",
              "        var btn2 = document.createElement('button');\n",
              "        btn2.innerHTML = 'No me gusta: Monty Python and the Holy Grail';\n",
              "        btn2.onclick = function() {\n",
              "          google.colab.kernel.invokeFunction('notebook.callback', ['No me gusta', 'Monty Python and the Holy Grail'], {});\n",
              "        };\n",
              "\n",
              "        div.appendChild(btn1);\n",
              "        div.appendChild(btn2);\n",
              "        document.body.appendChild(div);\n",
              "    "
            ]
          },
          "metadata": {}
        },
        {
          "output_type": "stream",
          "name": "stdout",
          "text": [
            "Has elegido: No me gusta para Monty Python and the Holy Grail\n",
            "Nueva película recomendada: Dead Birds, score: 3.373091467333352\n"
          ]
        },
        {
          "output_type": "display_data",
          "data": {
            "text/plain": [
              "<IPython.core.display.Javascript object>"
            ],
            "application/javascript": [
              "\n",
              "        var div = document.createElement('div');\n",
              "        var btn1 = document.createElement('button');\n",
              "        btn1.innerHTML = 'Me gusta: Dead Birds';\n",
              "        btn1.onclick = function() {\n",
              "          google.colab.kernel.invokeFunction('notebook.callback', ['Me gusta', 'Dead Birds'], {});\n",
              "        };\n",
              "\n",
              "        var btn2 = document.createElement('button');\n",
              "        btn2.innerHTML = 'No me gusta: Dead Birds';\n",
              "        btn2.onclick = function() {\n",
              "          google.colab.kernel.invokeFunction('notebook.callback', ['No me gusta', 'Dead Birds'], {});\n",
              "        };\n",
              "\n",
              "        div.appendChild(btn1);\n",
              "        div.appendChild(btn2);\n",
              "        document.body.appendChild(div);\n",
              "    "
            ]
          },
          "metadata": {}
        },
        {
          "output_type": "stream",
          "name": "stdout",
          "text": [
            "Has elegido: No me gusta para Dead Birds\n",
            "Nueva película recomendada: Vantage Point, score: 3.401291054290799\n"
          ]
        },
        {
          "output_type": "display_data",
          "data": {
            "text/plain": [
              "<IPython.core.display.Javascript object>"
            ],
            "application/javascript": [
              "\n",
              "        var div = document.createElement('div');\n",
              "        var btn1 = document.createElement('button');\n",
              "        btn1.innerHTML = 'Me gusta: Vantage Point';\n",
              "        btn1.onclick = function() {\n",
              "          google.colab.kernel.invokeFunction('notebook.callback', ['Me gusta', 'Vantage Point'], {});\n",
              "        };\n",
              "\n",
              "        var btn2 = document.createElement('button');\n",
              "        btn2.innerHTML = 'No me gusta: Vantage Point';\n",
              "        btn2.onclick = function() {\n",
              "          google.colab.kernel.invokeFunction('notebook.callback', ['No me gusta', 'Vantage Point'], {});\n",
              "        };\n",
              "\n",
              "        div.appendChild(btn1);\n",
              "        div.appendChild(btn2);\n",
              "        document.body.appendChild(div);\n",
              "    "
            ]
          },
          "metadata": {}
        },
        {
          "output_type": "stream",
          "name": "stdout",
          "text": [
            "Has elegido: No me gusta para Vantage Point\n",
            "Nueva película recomendada: Rebecca, score: 4.207787318423066\n"
          ]
        },
        {
          "output_type": "display_data",
          "data": {
            "text/plain": [
              "<IPython.core.display.Javascript object>"
            ],
            "application/javascript": [
              "\n",
              "        var div = document.createElement('div');\n",
              "        var btn1 = document.createElement('button');\n",
              "        btn1.innerHTML = 'Me gusta: Rebecca';\n",
              "        btn1.onclick = function() {\n",
              "          google.colab.kernel.invokeFunction('notebook.callback', ['Me gusta', 'Rebecca'], {});\n",
              "        };\n",
              "\n",
              "        var btn2 = document.createElement('button');\n",
              "        btn2.innerHTML = 'No me gusta: Rebecca';\n",
              "        btn2.onclick = function() {\n",
              "          google.colab.kernel.invokeFunction('notebook.callback', ['No me gusta', 'Rebecca'], {});\n",
              "        };\n",
              "\n",
              "        div.appendChild(btn1);\n",
              "        div.appendChild(btn2);\n",
              "        document.body.appendChild(div);\n",
              "    "
            ]
          },
          "metadata": {}
        },
        {
          "output_type": "stream",
          "name": "stdout",
          "text": [
            "Has elegido: No me gusta para Rebecca\n",
            "Nueva película recomendada: Lemony Snicket's A Series of Unfortunate Events, score: 3.72736606414843\n"
          ]
        },
        {
          "output_type": "display_data",
          "data": {
            "text/plain": [
              "<IPython.core.display.Javascript object>"
            ],
            "application/javascript": [
              "\n",
              "        var div = document.createElement('div');\n",
              "        var btn1 = document.createElement('button');\n",
              "        btn1.innerHTML = 'Me gusta: Lemony Snicket's A Series of Unfortunate Events';\n",
              "        btn1.onclick = function() {\n",
              "          google.colab.kernel.invokeFunction('notebook.callback', ['Me gusta', 'Lemony Snicket's A Series of Unfortunate Events'], {});\n",
              "        };\n",
              "\n",
              "        var btn2 = document.createElement('button');\n",
              "        btn2.innerHTML = 'No me gusta: Lemony Snicket's A Series of Unfortunate Events';\n",
              "        btn2.onclick = function() {\n",
              "          google.colab.kernel.invokeFunction('notebook.callback', ['No me gusta', 'Lemony Snicket's A Series of Unfortunate Events'], {});\n",
              "        };\n",
              "\n",
              "        div.appendChild(btn1);\n",
              "        div.appendChild(btn2);\n",
              "        document.body.appendChild(div);\n",
              "    "
            ]
          },
          "metadata": {}
        },
        {
          "output_type": "stream",
          "name": "stdout",
          "text": [
            "Has elegido: No me gusta para Rebecca\n",
            "Nueva película recomendada: Standing in the Shadows of Motown, score: 3.4310858165797162\n"
          ]
        },
        {
          "output_type": "display_data",
          "data": {
            "text/plain": [
              "<IPython.core.display.Javascript object>"
            ],
            "application/javascript": [
              "\n",
              "        var div = document.createElement('div');\n",
              "        var btn1 = document.createElement('button');\n",
              "        btn1.innerHTML = 'Me gusta: Standing in the Shadows of Motown';\n",
              "        btn1.onclick = function() {\n",
              "          google.colab.kernel.invokeFunction('notebook.callback', ['Me gusta', 'Standing in the Shadows of Motown'], {});\n",
              "        };\n",
              "\n",
              "        var btn2 = document.createElement('button');\n",
              "        btn2.innerHTML = 'No me gusta: Standing in the Shadows of Motown';\n",
              "        btn2.onclick = function() {\n",
              "          google.colab.kernel.invokeFunction('notebook.callback', ['No me gusta', 'Standing in the Shadows of Motown'], {});\n",
              "        };\n",
              "\n",
              "        div.appendChild(btn1);\n",
              "        div.appendChild(btn2);\n",
              "        document.body.appendChild(div);\n",
              "    "
            ]
          },
          "metadata": {}
        },
        {
          "output_type": "stream",
          "name": "stdout",
          "text": [
            "Has elegido: No me gusta para Standing in the Shadows of Motown\n",
            "Nueva película recomendada: Eagle Eye, score: 3.206339742505048\n"
          ]
        },
        {
          "output_type": "display_data",
          "data": {
            "text/plain": [
              "<IPython.core.display.Javascript object>"
            ],
            "application/javascript": [
              "\n",
              "        var div = document.createElement('div');\n",
              "        var btn1 = document.createElement('button');\n",
              "        btn1.innerHTML = 'Me gusta: Eagle Eye';\n",
              "        btn1.onclick = function() {\n",
              "          google.colab.kernel.invokeFunction('notebook.callback', ['Me gusta', 'Eagle Eye'], {});\n",
              "        };\n",
              "\n",
              "        var btn2 = document.createElement('button');\n",
              "        btn2.innerHTML = 'No me gusta: Eagle Eye';\n",
              "        btn2.onclick = function() {\n",
              "          google.colab.kernel.invokeFunction('notebook.callback', ['No me gusta', 'Eagle Eye'], {});\n",
              "        };\n",
              "\n",
              "        div.appendChild(btn1);\n",
              "        div.appendChild(btn2);\n",
              "        document.body.appendChild(div);\n",
              "    "
            ]
          },
          "metadata": {}
        },
        {
          "output_type": "stream",
          "name": "stdout",
          "text": [
            "Has elegido: No me gusta para Eagle Eye\n",
            "Nueva película recomendada: Hud, score: 3.496714955255585\n"
          ]
        },
        {
          "output_type": "display_data",
          "data": {
            "text/plain": [
              "<IPython.core.display.Javascript object>"
            ],
            "application/javascript": [
              "\n",
              "        var div = document.createElement('div');\n",
              "        var btn1 = document.createElement('button');\n",
              "        btn1.innerHTML = 'Me gusta: Hud';\n",
              "        btn1.onclick = function() {\n",
              "          google.colab.kernel.invokeFunction('notebook.callback', ['Me gusta', 'Hud'], {});\n",
              "        };\n",
              "\n",
              "        var btn2 = document.createElement('button');\n",
              "        btn2.innerHTML = 'No me gusta: Hud';\n",
              "        btn2.onclick = function() {\n",
              "          google.colab.kernel.invokeFunction('notebook.callback', ['No me gusta', 'Hud'], {});\n",
              "        };\n",
              "\n",
              "        div.appendChild(btn1);\n",
              "        div.appendChild(btn2);\n",
              "        document.body.appendChild(div);\n",
              "    "
            ]
          },
          "metadata": {}
        },
        {
          "output_type": "stream",
          "name": "stdout",
          "text": [
            "Has elegido: No me gusta para Hud\n",
            "Nueva película recomendada: El Dorado, score: 3.593743646391137\n"
          ]
        },
        {
          "output_type": "display_data",
          "data": {
            "text/plain": [
              "<IPython.core.display.Javascript object>"
            ],
            "application/javascript": [
              "\n",
              "        var div = document.createElement('div');\n",
              "        var btn1 = document.createElement('button');\n",
              "        btn1.innerHTML = 'Me gusta: El Dorado';\n",
              "        btn1.onclick = function() {\n",
              "          google.colab.kernel.invokeFunction('notebook.callback', ['Me gusta', 'El Dorado'], {});\n",
              "        };\n",
              "\n",
              "        var btn2 = document.createElement('button');\n",
              "        btn2.innerHTML = 'No me gusta: El Dorado';\n",
              "        btn2.onclick = function() {\n",
              "          google.colab.kernel.invokeFunction('notebook.callback', ['No me gusta', 'El Dorado'], {});\n",
              "        };\n",
              "\n",
              "        div.appendChild(btn1);\n",
              "        div.appendChild(btn2);\n",
              "        document.body.appendChild(div);\n",
              "    "
            ]
          },
          "metadata": {}
        },
        {
          "output_type": "stream",
          "name": "stdout",
          "text": [
            "Has elegido: Me gusta para El Dorado\n",
            "Película recomendada: Fight Club, score: 4.108990254213367\n"
          ]
        },
        {
          "output_type": "display_data",
          "data": {
            "text/plain": [
              "<IPython.core.display.Javascript object>"
            ],
            "application/javascript": [
              "\n",
              "        var div = document.createElement('div');\n",
              "        var btn1 = document.createElement('button');\n",
              "        btn1.innerHTML = 'Me gusta: Fight Club';\n",
              "        btn1.onclick = function() {\n",
              "          google.colab.kernel.invokeFunction('notebook.callback', ['Me gusta', 'Fight Club'], {});\n",
              "        };\n",
              "\n",
              "        var btn2 = document.createElement('button');\n",
              "        btn2.innerHTML = 'No me gusta: Fight Club';\n",
              "        btn2.onclick = function() {\n",
              "          google.colab.kernel.invokeFunction('notebook.callback', ['No me gusta', 'Fight Club'], {});\n",
              "        };\n",
              "\n",
              "        div.appendChild(btn1);\n",
              "        div.appendChild(btn2);\n",
              "        document.body.appendChild(div);\n",
              "    "
            ]
          },
          "metadata": {}
        },
        {
          "output_type": "stream",
          "name": "stdout",
          "text": [
            "Has elegido: Me gusta para Fight Club\n",
            "No hay más películas en la lista de recomendaciones. Seleccionando un nuevo usuario.\n",
            "Nuevo usuario seleccionado. Película recomendada: Taxi Driver, score: 4.201978531742617\n"
          ]
        },
        {
          "output_type": "display_data",
          "data": {
            "text/plain": [
              "<IPython.core.display.Javascript object>"
            ],
            "application/javascript": [
              "\n",
              "        var div = document.createElement('div');\n",
              "        var btn1 = document.createElement('button');\n",
              "        btn1.innerHTML = 'Me gusta: Taxi Driver';\n",
              "        btn1.onclick = function() {\n",
              "          google.colab.kernel.invokeFunction('notebook.callback', ['Me gusta', 'Taxi Driver'], {});\n",
              "        };\n",
              "\n",
              "        var btn2 = document.createElement('button');\n",
              "        btn2.innerHTML = 'No me gusta: Taxi Driver';\n",
              "        btn2.onclick = function() {\n",
              "          google.colab.kernel.invokeFunction('notebook.callback', ['No me gusta', 'Taxi Driver'], {});\n",
              "        };\n",
              "\n",
              "        div.appendChild(btn1);\n",
              "        div.appendChild(btn2);\n",
              "        document.body.appendChild(div);\n",
              "    "
            ]
          },
          "metadata": {}
        },
        {
          "output_type": "stream",
          "name": "stdout",
          "text": [
            "Has elegido: Me gusta para Taxi Driver\n"
          ]
        },
        {
          "output_type": "display_data",
          "data": {
            "text/plain": [
              "<IPython.core.display.HTML object>"
            ],
            "text/html": [
              "Te gustan las siguientes películas:\n",
              "Big Fish, There Will Be Blood, Psycho, El Dorado, Fight Club, Taxi Driver"
            ]
          },
          "metadata": {}
        },
        {
          "output_type": "stream",
          "name": "stdout",
          "text": [
            "Has elegido: Me gusta para Taxi Driver\n"
          ]
        },
        {
          "output_type": "display_data",
          "data": {
            "text/plain": [
              "<IPython.core.display.HTML object>"
            ],
            "text/html": [
              "Te gustan las siguientes películas:\n",
              "Big Fish, There Will Be Blood, Psycho, El Dorado, Fight Club, Taxi Driver, Taxi Driver"
            ]
          },
          "metadata": {}
        }
      ]
    },
    {
      "cell_type": "code",
      "source": [
        "import random\n",
        "from IPython.display import Javascript, display, HTML\n",
        "from google.colab.output import eval_js\n",
        "import pandas as pd\n",
        "import numpy as np\n",
        "from surprise import Dataset, Reader, SVD\n",
        "\n",
        "# Asumimos que df_muestra ya está cargado con las películas y ratings\n",
        "\n",
        "# Convertir el DataFrame en el formato esperado por Surprise\n",
        "reader = Reader(rating_scale=(0.5, 5))\n",
        "data = Dataset.load_from_df(df_muestra[['userId', 'movieId', 'rating']], reader)\n",
        "\n",
        "# Entrenar el modelo con Surprise\n",
        "trainset = data.build_full_trainset()\n",
        "modelo_svd = SVD()\n",
        "modelo_svd.fit(trainset)\n",
        "\n",
        "# Función para obtener recomendaciones de películas basadas en predicciones\n",
        "def get_top_movies_for_user(user_id, last_liked_movie_id=None, n=5):\n",
        "    # Obtener todas las películas que el usuario no ha visto\n",
        "    unseen_movies = set(df_muestra['movieId']) - set(df_muestra[df_muestra['userId'] == user_id]['movieId'])\n",
        "\n",
        "    # Predecir ratings para estas películas usando el modelo de Surprise\n",
        "    predictions = [(movie_id, modelo_svd.predict(user_id, movie_id).est) for movie_id in unseen_movies]\n",
        "\n",
        "    # Si hay una película que le gustó, filtrar por similitud\n",
        "    if last_liked_movie_id is not None:\n",
        "        # Filtrar las películas que tengan un score más cercano a la última película que le gustó\n",
        "        similar_movies = [(movie_id, score) for movie_id, score in predictions if abs(score - modelo_svd.predict(user_id, last_liked_movie_id).est) < 0.1]\n",
        "        predictions = similar_movies if similar_movies else predictions  # Si no hay similares, usar todas\n",
        "\n",
        "    # Ordenar por rating predicho y devolver las top n\n",
        "    return sorted(predictions, key=lambda x: x[1], reverse=True)[:n]\n",
        "\n",
        "# Inicializar lista de películas recomendadas para un usuario aleatorio\n",
        "def inicializar_recomendaciones():\n",
        "    global user_id, recommended_movies, current_index, last_liked_movie_id\n",
        "    user_id = random.choice(df_muestra['userId'].unique())  # Seleccionar un usuario al azar\n",
        "    recommended_movies = get_top_movies_for_user(user_id)\n",
        "    current_index = 0\n",
        "    last_liked_movie_id = None  # Reiniciar la última película que le gustó\n",
        "\n",
        "inicializar_recomendaciones()  # Generar la primera recomendación\n",
        "\n",
        "liked_movies = []  # Lista para almacenar películas que le gustan\n",
        "like_count = 0  # Contador de \"me gusta\"\n",
        "\n",
        "def create_buttons(movie_title):\n",
        "    movie_title_escaped = movie_title.replace(\"'\", \"\\'\").replace('\"', '\\\"')  # Escapar caracteres\n",
        "    display(Javascript(f'''\n",
        "        var div = document.createElement('div');\n",
        "        var btn1 = document.createElement('button');\n",
        "        btn1.innerHTML = 'Me gusta: {movie_title_escaped}';\n",
        "        btn1.onclick = function() {{\n",
        "          google.colab.kernel.invokeFunction('notebook.callback', ['Me gusta', '{movie_title_escaped}'], {{}});\n",
        "        }};\n",
        "\n",
        "        var btn2 = document.createElement('button');\n",
        "        btn2.innerHTML = 'No me gusta: {movie_title_escaped}';\n",
        "        btn2.onclick = function() {{\n",
        "          google.colab.kernel.invokeFunction('notebook.callback', ['No me gusta', '{movie_title_escaped}'], {{}});\n",
        "        }};\n",
        "\n",
        "        div.appendChild(btn1);\n",
        "        div.appendChild(btn2);\n",
        "        document.body.appendChild(div);\n",
        "    '''))\n",
        "\n",
        "def handle_choice(choice, movie_title):\n",
        "    global user_id, recommended_movies, current_index, last_liked_movie_id, liked_movies, like_count\n",
        "\n",
        "    print(f'Has elegido: {choice} para {movie_title}')\n",
        "\n",
        "    if choice == 'Me gusta':\n",
        "        # Obtener el ID de la película\n",
        "        movie_id = df_muestra[df_muestra['title'] == movie_title]['movieId'].values[0]\n",
        "\n",
        "        # Guardar la última película que le gustó\n",
        "        last_liked_movie_id = movie_id\n",
        "        liked_movies.append(movie_title)  # Guardar título de la película\n",
        "        like_count += 1  # Incrementar el contador de \"me gusta\"\n",
        "\n",
        "        # Verificar si ha alcanzado 6 \"me gusta\"\n",
        "        if like_count >= 6:\n",
        "            # Crear el mensaje final con las películas que le gustaron\n",
        "            final_message = \"<h3>Te gustan las siguientes películas:</h3>\"\n",
        "            final_message += '<ul>' + ''.join(f\"<li>{movie}</li>\" for movie in liked_movies) + '</ul>'\n",
        "\n",
        "            # Contar la frecuencia de las plataformas\n",
        "            platform_counts = {\n",
        "                'Netflix': sum(df_muestra[df_muestra['title'] == movie]['netflix'].values[0] for movie in liked_movies),\n",
        "                'Hulu': sum(df_muestra[df_muestra['title'] == movie]['hulu'].values[0] for movie in liked_movies),\n",
        "                'Prime Video': sum(df_muestra[df_muestra['title'] == movie]['prime video'].values[0] for movie in liked_movies),\n",
        "                'Disney+': sum(df_muestra[df_muestra['title'] == movie]['disney+'].values[0] for movie in liked_movies)\n",
        "            }\n",
        "\n",
        "            # Determinar la plataforma más frecuente\n",
        "            best_platform = max(platform_counts, key=platform_counts.get)\n",
        "\n",
        "            # Resaltar en rojo la mejor plataforma\n",
        "            final_message += f\"<h4 style='color: red;'>La plataforma que más se ajusta a tus gustos es: {best_platform}</h4>\"\n",
        "\n",
        "            display(HTML(final_message))\n",
        "            return  # Termina el programa\n",
        "\n",
        "        current_index += 1\n",
        "        if current_index < len(recommended_movies):\n",
        "            next_movie_id, next_score = recommended_movies[current_index]\n",
        "            next_movie_title = df_muestra[df_muestra['movieId'] == next_movie_id]['title'].values[0]\n",
        "            print(f\"Película recomendada: {next_movie_title}, score: {next_score}\")\n",
        "            create_buttons(next_movie_title)\n",
        "        else:\n",
        "            print(\"No hay más películas en la lista de recomendaciones. Seleccionando un nuevo usuario.\")\n",
        "            inicializar_recomendaciones()\n",
        "            next_movie_id, next_score = recommended_movies[current_index]\n",
        "            next_movie_title = df_muestra[df_muestra['movieId'] == next_movie_id]['title'].values[0]\n",
        "            print(f\"Nuevo usuario seleccionado. Película recomendada: {next_movie_title}, score: {next_score}\")\n",
        "            create_buttons(next_movie_title)\n",
        "    else:\n",
        "        # Seleccionar una nueva película si elige 'No me gusta'\n",
        "        unseen_movies = set(df_muestra['movieId']) - set(df_muestra[df_muestra['userId'] == user_id]['movieId'])\n",
        "        next_movie_id = random.choice(list(unseen_movies))\n",
        "        next_movie_title = df_muestra[df_muestra['movieId'] == next_movie_id]['title'].values[0]\n",
        "        next_score = modelo_svd.predict(user_id, next_movie_id).est\n",
        "        print(f\"Nueva película recomendada: {next_movie_title}, score: {next_score}\")\n",
        "        create_buttons(next_movie_title)\n",
        "\n",
        "# Registrar la función en Google Colab\n",
        "from google.colab import output\n",
        "output.register_callback('notebook.callback', handle_choice)\n",
        "\n",
        "# Mostrar la primera película recomendada\n",
        "first_movie_id, first_score = recommended_movies[current_index]\n",
        "first_movie_title = df_muestra[df_muestra['movieId'] == first_movie_id]['title'].values[0]\n",
        "print(f\"Película recomendada: {first_movie_title}, score: {first_score}\")\n",
        "create_buttons(first_movie_title)\n"
      ],
      "metadata": {
        "id": "AovX5QXCrHCK",
        "outputId": "4fa3c64a-a6b7-4f9c-91c9-5c9c7a867f86",
        "colab": {
          "base_uri": "https://localhost:8080/",
          "height": 966
        }
      },
      "execution_count": 11,
      "outputs": [
        {
          "output_type": "stream",
          "name": "stdout",
          "text": [
            "Película recomendada: WALL·E, score: 4.058475076645252\n"
          ]
        },
        {
          "output_type": "display_data",
          "data": {
            "text/plain": [
              "<IPython.core.display.Javascript object>"
            ],
            "application/javascript": [
              "\n",
              "        var div = document.createElement('div');\n",
              "        var btn1 = document.createElement('button');\n",
              "        btn1.innerHTML = 'Me gusta: WALL·E';\n",
              "        btn1.onclick = function() {\n",
              "          google.colab.kernel.invokeFunction('notebook.callback', ['Me gusta', 'WALL·E'], {});\n",
              "        };\n",
              "\n",
              "        var btn2 = document.createElement('button');\n",
              "        btn2.innerHTML = 'No me gusta: WALL·E';\n",
              "        btn2.onclick = function() {\n",
              "          google.colab.kernel.invokeFunction('notebook.callback', ['No me gusta', 'WALL·E'], {});\n",
              "        };\n",
              "\n",
              "        div.appendChild(btn1);\n",
              "        div.appendChild(btn2);\n",
              "        document.body.appendChild(div);\n",
              "    "
            ]
          },
          "metadata": {}
        },
        {
          "output_type": "stream",
          "name": "stdout",
          "text": [
            "Has elegido: Me gusta para WALL·E\n",
            "Película recomendada: Layer Cake, score: 3.9895675766269627\n"
          ]
        },
        {
          "output_type": "display_data",
          "data": {
            "text/plain": [
              "<IPython.core.display.Javascript object>"
            ],
            "application/javascript": [
              "\n",
              "        var div = document.createElement('div');\n",
              "        var btn1 = document.createElement('button');\n",
              "        btn1.innerHTML = 'Me gusta: Layer Cake';\n",
              "        btn1.onclick = function() {\n",
              "          google.colab.kernel.invokeFunction('notebook.callback', ['Me gusta', 'Layer Cake'], {});\n",
              "        };\n",
              "\n",
              "        var btn2 = document.createElement('button');\n",
              "        btn2.innerHTML = 'No me gusta: Layer Cake';\n",
              "        btn2.onclick = function() {\n",
              "          google.colab.kernel.invokeFunction('notebook.callback', ['No me gusta', 'Layer Cake'], {});\n",
              "        };\n",
              "\n",
              "        div.appendChild(btn1);\n",
              "        div.appendChild(btn2);\n",
              "        document.body.appendChild(div);\n",
              "    "
            ]
          },
          "metadata": {}
        },
        {
          "output_type": "stream",
          "name": "stdout",
          "text": [
            "Has elegido: No me gusta para Layer Cake\n",
            "Nueva película recomendada: Rent, score: 3.4210814929780624\n"
          ]
        },
        {
          "output_type": "display_data",
          "data": {
            "text/plain": [
              "<IPython.core.display.Javascript object>"
            ],
            "application/javascript": [
              "\n",
              "        var div = document.createElement('div');\n",
              "        var btn1 = document.createElement('button');\n",
              "        btn1.innerHTML = 'Me gusta: Rent';\n",
              "        btn1.onclick = function() {\n",
              "          google.colab.kernel.invokeFunction('notebook.callback', ['Me gusta', 'Rent'], {});\n",
              "        };\n",
              "\n",
              "        var btn2 = document.createElement('button');\n",
              "        btn2.innerHTML = 'No me gusta: Rent';\n",
              "        btn2.onclick = function() {\n",
              "          google.colab.kernel.invokeFunction('notebook.callback', ['No me gusta', 'Rent'], {});\n",
              "        };\n",
              "\n",
              "        div.appendChild(btn1);\n",
              "        div.appendChild(btn2);\n",
              "        document.body.appendChild(div);\n",
              "    "
            ]
          },
          "metadata": {}
        },
        {
          "output_type": "stream",
          "name": "stdout",
          "text": [
            "Has elegido: No me gusta para Rent\n",
            "Nueva película recomendada: School Ties, score: 3.339478185235435\n"
          ]
        },
        {
          "output_type": "display_data",
          "data": {
            "text/plain": [
              "<IPython.core.display.Javascript object>"
            ],
            "application/javascript": [
              "\n",
              "        var div = document.createElement('div');\n",
              "        var btn1 = document.createElement('button');\n",
              "        btn1.innerHTML = 'Me gusta: School Ties';\n",
              "        btn1.onclick = function() {\n",
              "          google.colab.kernel.invokeFunction('notebook.callback', ['Me gusta', 'School Ties'], {});\n",
              "        };\n",
              "\n",
              "        var btn2 = document.createElement('button');\n",
              "        btn2.innerHTML = 'No me gusta: School Ties';\n",
              "        btn2.onclick = function() {\n",
              "          google.colab.kernel.invokeFunction('notebook.callback', ['No me gusta', 'School Ties'], {});\n",
              "        };\n",
              "\n",
              "        div.appendChild(btn1);\n",
              "        div.appendChild(btn2);\n",
              "        document.body.appendChild(div);\n",
              "    "
            ]
          },
          "metadata": {}
        },
        {
          "output_type": "stream",
          "name": "stdout",
          "text": [
            "Has elegido: No me gusta para School Ties\n",
            "Nueva película recomendada: Superbad, score: 3.6728297603212825\n"
          ]
        },
        {
          "output_type": "display_data",
          "data": {
            "text/plain": [
              "<IPython.core.display.Javascript object>"
            ],
            "application/javascript": [
              "\n",
              "        var div = document.createElement('div');\n",
              "        var btn1 = document.createElement('button');\n",
              "        btn1.innerHTML = 'Me gusta: Superbad';\n",
              "        btn1.onclick = function() {\n",
              "          google.colab.kernel.invokeFunction('notebook.callback', ['Me gusta', 'Superbad'], {});\n",
              "        };\n",
              "\n",
              "        var btn2 = document.createElement('button');\n",
              "        btn2.innerHTML = 'No me gusta: Superbad';\n",
              "        btn2.onclick = function() {\n",
              "          google.colab.kernel.invokeFunction('notebook.callback', ['No me gusta', 'Superbad'], {});\n",
              "        };\n",
              "\n",
              "        div.appendChild(btn1);\n",
              "        div.appendChild(btn2);\n",
              "        document.body.appendChild(div);\n",
              "    "
            ]
          },
          "metadata": {}
        },
        {
          "output_type": "stream",
          "name": "stdout",
          "text": [
            "Has elegido: Me gusta para Superbad\n",
            "Película recomendada: Psycho, score: 3.9263581106279473\n"
          ]
        },
        {
          "output_type": "display_data",
          "data": {
            "text/plain": [
              "<IPython.core.display.Javascript object>"
            ],
            "application/javascript": [
              "\n",
              "        var div = document.createElement('div');\n",
              "        var btn1 = document.createElement('button');\n",
              "        btn1.innerHTML = 'Me gusta: Psycho';\n",
              "        btn1.onclick = function() {\n",
              "          google.colab.kernel.invokeFunction('notebook.callback', ['Me gusta', 'Psycho'], {});\n",
              "        };\n",
              "\n",
              "        var btn2 = document.createElement('button');\n",
              "        btn2.innerHTML = 'No me gusta: Psycho';\n",
              "        btn2.onclick = function() {\n",
              "          google.colab.kernel.invokeFunction('notebook.callback', ['No me gusta', 'Psycho'], {});\n",
              "        };\n",
              "\n",
              "        div.appendChild(btn1);\n",
              "        div.appendChild(btn2);\n",
              "        document.body.appendChild(div);\n",
              "    "
            ]
          },
          "metadata": {}
        },
        {
          "output_type": "stream",
          "name": "stdout",
          "text": [
            "Has elegido: Me gusta para Psycho\n",
            "Película recomendada: Fight Club, score: 3.9114188831307453\n"
          ]
        },
        {
          "output_type": "display_data",
          "data": {
            "text/plain": [
              "<IPython.core.display.Javascript object>"
            ],
            "application/javascript": [
              "\n",
              "        var div = document.createElement('div');\n",
              "        var btn1 = document.createElement('button');\n",
              "        btn1.innerHTML = 'Me gusta: Fight Club';\n",
              "        btn1.onclick = function() {\n",
              "          google.colab.kernel.invokeFunction('notebook.callback', ['Me gusta', 'Fight Club'], {});\n",
              "        };\n",
              "\n",
              "        var btn2 = document.createElement('button');\n",
              "        btn2.innerHTML = 'No me gusta: Fight Club';\n",
              "        btn2.onclick = function() {\n",
              "          google.colab.kernel.invokeFunction('notebook.callback', ['No me gusta', 'Fight Club'], {});\n",
              "        };\n",
              "\n",
              "        div.appendChild(btn1);\n",
              "        div.appendChild(btn2);\n",
              "        document.body.appendChild(div);\n",
              "    "
            ]
          },
          "metadata": {}
        },
        {
          "output_type": "stream",
          "name": "stdout",
          "text": [
            "Has elegido: Me gusta para Fight Club\n",
            "Película recomendada: Roman Holiday, score: 3.9068677800341742\n"
          ]
        },
        {
          "output_type": "display_data",
          "data": {
            "text/plain": [
              "<IPython.core.display.Javascript object>"
            ],
            "application/javascript": [
              "\n",
              "        var div = document.createElement('div');\n",
              "        var btn1 = document.createElement('button');\n",
              "        btn1.innerHTML = 'Me gusta: Roman Holiday';\n",
              "        btn1.onclick = function() {\n",
              "          google.colab.kernel.invokeFunction('notebook.callback', ['Me gusta', 'Roman Holiday'], {});\n",
              "        };\n",
              "\n",
              "        var btn2 = document.createElement('button');\n",
              "        btn2.innerHTML = 'No me gusta: Roman Holiday';\n",
              "        btn2.onclick = function() {\n",
              "          google.colab.kernel.invokeFunction('notebook.callback', ['No me gusta', 'Roman Holiday'], {});\n",
              "        };\n",
              "\n",
              "        div.appendChild(btn1);\n",
              "        div.appendChild(btn2);\n",
              "        document.body.appendChild(div);\n",
              "    "
            ]
          },
          "metadata": {}
        },
        {
          "output_type": "stream",
          "name": "stdout",
          "text": [
            "Has elegido: No me gusta para Roman Holiday\n",
            "Nueva película recomendada: Sabrina, score: 3.42868499639056\n"
          ]
        },
        {
          "output_type": "display_data",
          "data": {
            "text/plain": [
              "<IPython.core.display.Javascript object>"
            ],
            "application/javascript": [
              "\n",
              "        var div = document.createElement('div');\n",
              "        var btn1 = document.createElement('button');\n",
              "        btn1.innerHTML = 'Me gusta: Sabrina';\n",
              "        btn1.onclick = function() {\n",
              "          google.colab.kernel.invokeFunction('notebook.callback', ['Me gusta', 'Sabrina'], {});\n",
              "        };\n",
              "\n",
              "        var btn2 = document.createElement('button');\n",
              "        btn2.innerHTML = 'No me gusta: Sabrina';\n",
              "        btn2.onclick = function() {\n",
              "          google.colab.kernel.invokeFunction('notebook.callback', ['No me gusta', 'Sabrina'], {});\n",
              "        };\n",
              "\n",
              "        div.appendChild(btn1);\n",
              "        div.appendChild(btn2);\n",
              "        document.body.appendChild(div);\n",
              "    "
            ]
          },
          "metadata": {}
        },
        {
          "output_type": "stream",
          "name": "stdout",
          "text": [
            "Has elegido: No me gusta para Sabrina\n",
            "Nueva película recomendada: Quigley Down Under, score: 3.2465738938683963\n"
          ]
        },
        {
          "output_type": "display_data",
          "data": {
            "text/plain": [
              "<IPython.core.display.Javascript object>"
            ],
            "application/javascript": [
              "\n",
              "        var div = document.createElement('div');\n",
              "        var btn1 = document.createElement('button');\n",
              "        btn1.innerHTML = 'Me gusta: Quigley Down Under';\n",
              "        btn1.onclick = function() {\n",
              "          google.colab.kernel.invokeFunction('notebook.callback', ['Me gusta', 'Quigley Down Under'], {});\n",
              "        };\n",
              "\n",
              "        var btn2 = document.createElement('button');\n",
              "        btn2.innerHTML = 'No me gusta: Quigley Down Under';\n",
              "        btn2.onclick = function() {\n",
              "          google.colab.kernel.invokeFunction('notebook.callback', ['No me gusta', 'Quigley Down Under'], {});\n",
              "        };\n",
              "\n",
              "        div.appendChild(btn1);\n",
              "        div.appendChild(btn2);\n",
              "        document.body.appendChild(div);\n",
              "    "
            ]
          },
          "metadata": {}
        },
        {
          "output_type": "stream",
          "name": "stdout",
          "text": [
            "Has elegido: No me gusta para Quigley Down Under\n",
            "Nueva película recomendada: Super Troopers, score: 3.41486376679537\n"
          ]
        },
        {
          "output_type": "display_data",
          "data": {
            "text/plain": [
              "<IPython.core.display.Javascript object>"
            ],
            "application/javascript": [
              "\n",
              "        var div = document.createElement('div');\n",
              "        var btn1 = document.createElement('button');\n",
              "        btn1.innerHTML = 'Me gusta: Super Troopers';\n",
              "        btn1.onclick = function() {\n",
              "          google.colab.kernel.invokeFunction('notebook.callback', ['Me gusta', 'Super Troopers'], {});\n",
              "        };\n",
              "\n",
              "        var btn2 = document.createElement('button');\n",
              "        btn2.innerHTML = 'No me gusta: Super Troopers';\n",
              "        btn2.onclick = function() {\n",
              "          google.colab.kernel.invokeFunction('notebook.callback', ['No me gusta', 'Super Troopers'], {});\n",
              "        };\n",
              "\n",
              "        div.appendChild(btn1);\n",
              "        div.appendChild(btn2);\n",
              "        document.body.appendChild(div);\n",
              "    "
            ]
          },
          "metadata": {}
        },
        {
          "output_type": "stream",
          "name": "stdout",
          "text": [
            "Has elegido: No me gusta para Super Troopers\n",
            "Nueva película recomendada: Hellboy, score: 3.2634273692741553\n"
          ]
        },
        {
          "output_type": "display_data",
          "data": {
            "text/plain": [
              "<IPython.core.display.Javascript object>"
            ],
            "application/javascript": [
              "\n",
              "        var div = document.createElement('div');\n",
              "        var btn1 = document.createElement('button');\n",
              "        btn1.innerHTML = 'Me gusta: Hellboy';\n",
              "        btn1.onclick = function() {\n",
              "          google.colab.kernel.invokeFunction('notebook.callback', ['Me gusta', 'Hellboy'], {});\n",
              "        };\n",
              "\n",
              "        var btn2 = document.createElement('button');\n",
              "        btn2.innerHTML = 'No me gusta: Hellboy';\n",
              "        btn2.onclick = function() {\n",
              "          google.colab.kernel.invokeFunction('notebook.callback', ['No me gusta', 'Hellboy'], {});\n",
              "        };\n",
              "\n",
              "        div.appendChild(btn1);\n",
              "        div.appendChild(btn2);\n",
              "        document.body.appendChild(div);\n",
              "    "
            ]
          },
          "metadata": {}
        },
        {
          "output_type": "stream",
          "name": "stdout",
          "text": [
            "Has elegido: Me gusta para Hellboy\n",
            "No hay más películas en la lista de recomendaciones. Seleccionando un nuevo usuario.\n",
            "Nuevo usuario seleccionado. Película recomendada: Fight Club, score: 4.290713955088835\n"
          ]
        },
        {
          "output_type": "display_data",
          "data": {
            "text/plain": [
              "<IPython.core.display.Javascript object>"
            ],
            "application/javascript": [
              "\n",
              "        var div = document.createElement('div');\n",
              "        var btn1 = document.createElement('button');\n",
              "        btn1.innerHTML = 'Me gusta: Fight Club';\n",
              "        btn1.onclick = function() {\n",
              "          google.colab.kernel.invokeFunction('notebook.callback', ['Me gusta', 'Fight Club'], {});\n",
              "        };\n",
              "\n",
              "        var btn2 = document.createElement('button');\n",
              "        btn2.innerHTML = 'No me gusta: Fight Club';\n",
              "        btn2.onclick = function() {\n",
              "          google.colab.kernel.invokeFunction('notebook.callback', ['No me gusta', 'Fight Club'], {});\n",
              "        };\n",
              "\n",
              "        div.appendChild(btn1);\n",
              "        div.appendChild(btn2);\n",
              "        document.body.appendChild(div);\n",
              "    "
            ]
          },
          "metadata": {}
        },
        {
          "output_type": "stream",
          "name": "stdout",
          "text": [
            "Has elegido: Me gusta para Fight Club\n"
          ]
        },
        {
          "output_type": "display_data",
          "data": {
            "text/plain": [
              "<IPython.core.display.HTML object>"
            ],
            "text/html": [
              "<h3>Te gustan las siguientes películas:</h3><ul><li>WALL·E</li><li>Superbad</li><li>Psycho</li><li>Fight Club</li><li>Hellboy</li><li>Fight Club</li></ul><h4 style='color: red;'>La plataforma que más se ajusta a tus gustos es: Prime Video</h4>"
            ]
          },
          "metadata": {}
        }
      ]
    }
  ],
  "metadata": {
    "colab": {
      "provenance": [],
      "include_colab_link": true
    },
    "kernelspec": {
      "display_name": "Python 3",
      "name": "python3"
    },
    "language_info": {
      "codemirror_mode": {
        "name": "ipython",
        "version": 3
      },
      "file_extension": ".py",
      "mimetype": "text/x-python",
      "name": "python",
      "nbconvert_exporter": "python",
      "pygments_lexer": "ipython3",
      "version": "3.11.4"
    }
  },
  "nbformat": 4,
  "nbformat_minor": 0
}